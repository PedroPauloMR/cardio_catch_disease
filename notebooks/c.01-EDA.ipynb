{
 "cells": [
  {
   "cell_type": "markdown",
   "id": "a2c07878",
   "metadata": {},
   "source": [
    "# Imports"
   ]
  },
  {
   "cell_type": "code",
   "execution_count": 1,
   "id": "2ea7d4d6",
   "metadata": {
    "ExecuteTime": {
     "end_time": "2023-07-07T16:22:48.451687Z",
     "start_time": "2023-07-07T16:22:42.366585Z"
    }
   },
   "outputs": [],
   "source": [
    "import pandas as pd\n",
    "import numpy as np\n",
    "import matplotlib.pyplot as plt\n",
    "import seaborn as sns\n",
    "import joblib\n",
    "import random \n",
    "\n",
    "from ydata_profiling          import ProfileReport\n",
    "from sklearn.preprocessing    import MinMaxScaler,RobustScaler\n",
    "from sklearn.model_selection  import train_test_split, StratifiedKFold\n",
    "from sklearn.ensemble         import RandomForestClassifier\n",
    "from sklearn.linear_model     import LogisticRegression\n",
    "from sklearn.metrics          import accuracy_score, precision_score,confusion_matrix,recall_score\n",
    "from xgboost                  import XGBClassifier\n",
    "from sklearn.neighbors        import KNeighborsClassifier\n",
    "\n",
    "pd.set_option('display.max_columns',None)\n",
    "pd.set_option('display.precision', 3)\n",
    "\n",
    "%matplotlib inline"
   ]
  },
  {
   "cell_type": "markdown",
   "id": "6e711abe",
   "metadata": {},
   "source": [
    "# Helper Functions"
   ]
  },
  {
   "cell_type": "code",
   "execution_count": 2,
   "id": "a3cf85a5",
   "metadata": {
    "ExecuteTime": {
     "end_time": "2023-07-07T16:22:48.467535Z",
     "start_time": "2023-07-07T16:22:48.454157Z"
    }
   },
   "outputs": [],
   "source": [
    "def ml_metrics( model_name, y_true, yhat):\n",
    "    accuracy = accuracy_score(y_true, yhat)\n",
    "    precision = precision_score(y_true, yhat)\n",
    "    recall = recall_score(y_true, yhat)\n",
    "\n",
    "    return pd.DataFrame({'Model Name': model_name, \n",
    "                        'ACC': accuracy,\n",
    "                        'PRECISION': precision,\n",
    "                        'RECALL': recall}, index = [0])"
   ]
  },
  {
   "cell_type": "code",
   "execution_count": 3,
   "id": "f63786c9",
   "metadata": {
    "ExecuteTime": {
     "end_time": "2023-07-07T16:22:48.483546Z",
     "start_time": "2023-07-07T16:22:48.469484Z"
    }
   },
   "outputs": [],
   "source": [
    "def model_cross_validation(model_name, model, X, y):\n",
    "    skf = StratifiedKFold(n_splits=5)\n",
    "    acc = []\n",
    "    prec = []\n",
    "    rec = []\n",
    "    for train_index, test_index in skf.split(X, y):\n",
    "        x_train_fold, x_test_fold = X.iloc[train_index,:], X.iloc[test_index,:]\n",
    "        y_train_fold, y_test_fold = y.iloc[train_index,:], y.iloc[test_index,:]\n",
    "\n",
    "        model.fit(x_train_fold, y_train_fold.values.ravel())\n",
    "\n",
    "        y_hat = model.predict(x_test_fold)\n",
    "\n",
    "        acc.append(accuracy_score(y_test_fold, y_hat))\n",
    "        prec.append(precision_score(y_test_fold, y_hat))\n",
    "        rec.append(recall_score(y_test_fold, y_hat))\n",
    "\n",
    "\n",
    "    result = {'Model Name': model_name, \n",
    "                'Mean ACC': round(100*np.mean(acc),2),\n",
    "                'Std ACC': round(100*np.std(acc),2),\n",
    "                'Mean PRECISION': round(100*np.mean(prec),2),\n",
    "                'Std PRECISION': round(100*np.std(prec),2),\n",
    "                'Mean RECALL': round(100*np.mean(rec),2),\n",
    "                'Std RECALL': round(100*np.std(rec),2)}\n",
    "    return pd.DataFrame(result, index = [0])"
   ]
  },
  {
   "cell_type": "code",
   "execution_count": null,
   "id": "1d993e65",
   "metadata": {
    "ExecuteTime": {
     "end_time": "2023-06-25T19:18:45.324712Z",
     "start_time": "2023-06-25T19:18:45.304251Z"
    }
   },
   "outputs": [],
   "source": []
  },
  {
   "cell_type": "code",
   "execution_count": null,
   "id": "544cc1ff",
   "metadata": {},
   "outputs": [],
   "source": []
  },
  {
   "cell_type": "markdown",
   "id": "9f969f04",
   "metadata": {},
   "source": [
    "# Load Data"
   ]
  },
  {
   "cell_type": "code",
   "execution_count": 4,
   "id": "5f1211f6",
   "metadata": {
    "ExecuteTime": {
     "end_time": "2023-07-07T16:22:48.499086Z",
     "start_time": "2023-07-07T16:22:48.486551Z"
    }
   },
   "outputs": [],
   "source": [
    "path = '../data/raw/'"
   ]
  },
  {
   "cell_type": "code",
   "execution_count": 5,
   "id": "c7116a2a",
   "metadata": {
    "ExecuteTime": {
     "end_time": "2023-07-07T16:22:48.610840Z",
     "start_time": "2023-07-07T16:22:48.501029Z"
    }
   },
   "outputs": [
    {
     "data": {
      "text/html": [
       "<div>\n",
       "<style scoped>\n",
       "    .dataframe tbody tr th:only-of-type {\n",
       "        vertical-align: middle;\n",
       "    }\n",
       "\n",
       "    .dataframe tbody tr th {\n",
       "        vertical-align: top;\n",
       "    }\n",
       "\n",
       "    .dataframe thead th {\n",
       "        text-align: right;\n",
       "    }\n",
       "</style>\n",
       "<table border=\"1\" class=\"dataframe\">\n",
       "  <thead>\n",
       "    <tr style=\"text-align: right;\">\n",
       "      <th></th>\n",
       "      <th>id</th>\n",
       "      <th>age</th>\n",
       "      <th>gender</th>\n",
       "      <th>height</th>\n",
       "      <th>weight</th>\n",
       "      <th>ap_hi</th>\n",
       "      <th>ap_lo</th>\n",
       "      <th>cholesterol</th>\n",
       "      <th>gluc</th>\n",
       "      <th>smoke</th>\n",
       "      <th>alco</th>\n",
       "      <th>active</th>\n",
       "      <th>cardio</th>\n",
       "    </tr>\n",
       "  </thead>\n",
       "  <tbody>\n",
       "    <tr>\n",
       "      <th>0</th>\n",
       "      <td>0</td>\n",
       "      <td>18393</td>\n",
       "      <td>2</td>\n",
       "      <td>168</td>\n",
       "      <td>62.0</td>\n",
       "      <td>110</td>\n",
       "      <td>80</td>\n",
       "      <td>1</td>\n",
       "      <td>1</td>\n",
       "      <td>0</td>\n",
       "      <td>0</td>\n",
       "      <td>1</td>\n",
       "      <td>0</td>\n",
       "    </tr>\n",
       "    <tr>\n",
       "      <th>1</th>\n",
       "      <td>1</td>\n",
       "      <td>20228</td>\n",
       "      <td>1</td>\n",
       "      <td>156</td>\n",
       "      <td>85.0</td>\n",
       "      <td>140</td>\n",
       "      <td>90</td>\n",
       "      <td>3</td>\n",
       "      <td>1</td>\n",
       "      <td>0</td>\n",
       "      <td>0</td>\n",
       "      <td>1</td>\n",
       "      <td>1</td>\n",
       "    </tr>\n",
       "    <tr>\n",
       "      <th>2</th>\n",
       "      <td>2</td>\n",
       "      <td>18857</td>\n",
       "      <td>1</td>\n",
       "      <td>165</td>\n",
       "      <td>64.0</td>\n",
       "      <td>130</td>\n",
       "      <td>70</td>\n",
       "      <td>3</td>\n",
       "      <td>1</td>\n",
       "      <td>0</td>\n",
       "      <td>0</td>\n",
       "      <td>0</td>\n",
       "      <td>1</td>\n",
       "    </tr>\n",
       "    <tr>\n",
       "      <th>3</th>\n",
       "      <td>3</td>\n",
       "      <td>17623</td>\n",
       "      <td>2</td>\n",
       "      <td>169</td>\n",
       "      <td>82.0</td>\n",
       "      <td>150</td>\n",
       "      <td>100</td>\n",
       "      <td>1</td>\n",
       "      <td>1</td>\n",
       "      <td>0</td>\n",
       "      <td>0</td>\n",
       "      <td>1</td>\n",
       "      <td>1</td>\n",
       "    </tr>\n",
       "    <tr>\n",
       "      <th>4</th>\n",
       "      <td>4</td>\n",
       "      <td>17474</td>\n",
       "      <td>1</td>\n",
       "      <td>156</td>\n",
       "      <td>56.0</td>\n",
       "      <td>100</td>\n",
       "      <td>60</td>\n",
       "      <td>1</td>\n",
       "      <td>1</td>\n",
       "      <td>0</td>\n",
       "      <td>0</td>\n",
       "      <td>0</td>\n",
       "      <td>0</td>\n",
       "    </tr>\n",
       "  </tbody>\n",
       "</table>\n",
       "</div>"
      ],
      "text/plain": [
       "   id    age  gender  height  weight  ap_hi  ap_lo  cholesterol  gluc  smoke  \\\n",
       "0   0  18393       2     168    62.0    110     80            1     1      0   \n",
       "1   1  20228       1     156    85.0    140     90            3     1      0   \n",
       "2   2  18857       1     165    64.0    130     70            3     1      0   \n",
       "3   3  17623       2     169    82.0    150    100            1     1      0   \n",
       "4   4  17474       1     156    56.0    100     60            1     1      0   \n",
       "\n",
       "   alco  active  cardio  \n",
       "0     0       1       0  \n",
       "1     0       1       1  \n",
       "2     0       0       1  \n",
       "3     0       1       1  \n",
       "4     0       0       0  "
      ]
     },
     "execution_count": 5,
     "metadata": {},
     "output_type": "execute_result"
    }
   ],
   "source": [
    "df = pd.read_csv(path + 'cardio_train.csv',sep = ';')\n",
    "df.head()"
   ]
  },
  {
   "cell_type": "code",
   "execution_count": 6,
   "id": "175bbff6",
   "metadata": {
    "ExecuteTime": {
     "end_time": "2023-07-07T16:22:48.626797Z",
     "start_time": "2023-07-07T16:22:48.612835Z"
    }
   },
   "outputs": [],
   "source": [
    "# gender => 1:female, 2:male"
   ]
  },
  {
   "cell_type": "markdown",
   "id": "9b4a284b",
   "metadata": {},
   "source": [
    "# Data Description"
   ]
  },
  {
   "cell_type": "markdown",
   "id": "c798e2ae",
   "metadata": {},
   "source": [
    "## Rename columns"
   ]
  },
  {
   "cell_type": "code",
   "execution_count": 7,
   "id": "92080950",
   "metadata": {
    "ExecuteTime": {
     "end_time": "2023-07-07T16:22:48.642755Z",
     "start_time": "2023-07-07T16:22:48.628792Z"
    }
   },
   "outputs": [],
   "source": [
    "df.rename(columns = {'ap_hi':'systolic','ap_lo':'diastolic','alco':'alcohol'}, inplace = True)"
   ]
  },
  {
   "cell_type": "markdown",
   "id": "24f2063a",
   "metadata": {},
   "source": [
    "## Data dimension"
   ]
  },
  {
   "cell_type": "code",
   "execution_count": 8,
   "id": "d8e731f9",
   "metadata": {
    "ExecuteTime": {
     "end_time": "2023-07-07T16:22:48.658713Z",
     "start_time": "2023-07-07T16:22:48.644750Z"
    }
   },
   "outputs": [
    {
     "name": "stdout",
     "output_type": "stream",
     "text": [
      "Quantity of rows and columns: (70000, 13)\n"
     ]
    }
   ],
   "source": [
    "print('Quantity of rows and columns: {}'.format(df.shape))"
   ]
  },
  {
   "cell_type": "markdown",
   "id": "c741723c",
   "metadata": {},
   "source": [
    "## Data types"
   ]
  },
  {
   "cell_type": "code",
   "execution_count": 9,
   "id": "5039907b",
   "metadata": {
    "ExecuteTime": {
     "end_time": "2023-07-07T16:22:48.690627Z",
     "start_time": "2023-07-07T16:22:48.660707Z"
    }
   },
   "outputs": [
    {
     "name": "stdout",
     "output_type": "stream",
     "text": [
      "<class 'pandas.core.frame.DataFrame'>\n",
      "RangeIndex: 70000 entries, 0 to 69999\n",
      "Data columns (total 13 columns):\n",
      " #   Column       Non-Null Count  Dtype  \n",
      "---  ------       --------------  -----  \n",
      " 0   id           70000 non-null  int64  \n",
      " 1   age          70000 non-null  int64  \n",
      " 2   gender       70000 non-null  int64  \n",
      " 3   height       70000 non-null  int64  \n",
      " 4   weight       70000 non-null  float64\n",
      " 5   systolic     70000 non-null  int64  \n",
      " 6   diastolic    70000 non-null  int64  \n",
      " 7   cholesterol  70000 non-null  int64  \n",
      " 8   gluc         70000 non-null  int64  \n",
      " 9   smoke        70000 non-null  int64  \n",
      " 10  alcohol      70000 non-null  int64  \n",
      " 11  active       70000 non-null  int64  \n",
      " 12  cardio       70000 non-null  int64  \n",
      "dtypes: float64(1), int64(12)\n",
      "memory usage: 6.9 MB\n"
     ]
    }
   ],
   "source": [
    "df.info()"
   ]
  },
  {
   "cell_type": "markdown",
   "id": "6bf993e0",
   "metadata": {},
   "source": [
    "## Check NA"
   ]
  },
  {
   "cell_type": "code",
   "execution_count": 10,
   "id": "d78ce53c",
   "metadata": {
    "ExecuteTime": {
     "end_time": "2023-07-07T16:22:48.706583Z",
     "start_time": "2023-07-07T16:22:48.695613Z"
    }
   },
   "outputs": [
    {
     "data": {
      "text/plain": [
       "id             0\n",
       "age            0\n",
       "gender         0\n",
       "height         0\n",
       "weight         0\n",
       "systolic       0\n",
       "diastolic      0\n",
       "cholesterol    0\n",
       "gluc           0\n",
       "smoke          0\n",
       "alcohol        0\n",
       "active         0\n",
       "cardio         0\n",
       "dtype: int64"
      ]
     },
     "execution_count": 10,
     "metadata": {},
     "output_type": "execute_result"
    }
   ],
   "source": [
    "df.isna().sum()"
   ]
  },
  {
   "cell_type": "markdown",
   "id": "e2d83372",
   "metadata": {},
   "source": [
    "## Replace NA"
   ]
  },
  {
   "cell_type": "code",
   "execution_count": 11,
   "id": "88c74a8d",
   "metadata": {
    "ExecuteTime": {
     "end_time": "2023-07-07T16:22:48.722541Z",
     "start_time": "2023-07-07T16:22:48.707581Z"
    }
   },
   "outputs": [],
   "source": [
    "# None"
   ]
  },
  {
   "cell_type": "markdown",
   "id": "1746e12e",
   "metadata": {},
   "source": [
    "## Change dtypes"
   ]
  },
  {
   "cell_type": "code",
   "execution_count": 12,
   "id": "20bbc6b4",
   "metadata": {
    "ExecuteTime": {
     "end_time": "2023-07-07T16:22:48.738499Z",
     "start_time": "2023-07-07T16:22:48.724537Z"
    }
   },
   "outputs": [],
   "source": [
    "# None"
   ]
  },
  {
   "cell_type": "code",
   "execution_count": null,
   "id": "b95e1b8a",
   "metadata": {},
   "outputs": [],
   "source": []
  },
  {
   "cell_type": "markdown",
   "id": "7d7ecfc9",
   "metadata": {},
   "source": [
    "## Descriptive Statistics"
   ]
  },
  {
   "cell_type": "code",
   "execution_count": 13,
   "id": "c88aa43d",
   "metadata": {
    "ExecuteTime": {
     "end_time": "2023-07-07T16:22:48.754458Z",
     "start_time": "2023-07-07T16:22:48.740494Z"
    }
   },
   "outputs": [],
   "source": [
    "df1 = df.copy()"
   ]
  },
  {
   "cell_type": "markdown",
   "id": "e778d14f",
   "metadata": {},
   "source": [
    "### Numerical Attributes"
   ]
  },
  {
   "cell_type": "code",
   "execution_count": 14,
   "id": "9e033d0e",
   "metadata": {
    "ExecuteTime": {
     "end_time": "2023-07-07T16:22:48.769459Z",
     "start_time": "2023-07-07T16:22:48.757450Z"
    }
   },
   "outputs": [],
   "source": [
    "num_attributes = df1.select_dtypes(include=['int64','float64'])"
   ]
  },
  {
   "cell_type": "code",
   "execution_count": 15,
   "id": "626c0dc9",
   "metadata": {
    "ExecuteTime": {
     "end_time": "2023-07-07T16:22:48.849202Z",
     "start_time": "2023-07-07T16:22:48.771411Z"
    }
   },
   "outputs": [],
   "source": [
    "# central tendency\n",
    "ct_mean = pd.DataFrame( num_attributes.apply( np.mean )).T\n",
    "ct_median = pd.DataFrame( num_attributes.apply( np.median )).T\n",
    "\n",
    "# dispersion\n",
    "\n",
    "ct_std = pd.DataFrame( num_attributes.apply( np.std )).T\n",
    "ct_min = pd.DataFrame( num_attributes.apply( np.min )).T\n",
    "ct_max = pd.DataFrame( num_attributes.apply( np.max )).T\n",
    "ct_range = pd.DataFrame( num_attributes.apply( lambda x: x.max() - x.min() )).T\n",
    "ct_skew = pd.DataFrame( num_attributes.apply( lambda x: x.skew() )).T\n",
    "ct_kurtosis = pd.DataFrame( num_attributes.apply( lambda x: x.kurtosis() )).T"
   ]
  },
  {
   "cell_type": "code",
   "execution_count": 16,
   "id": "3f9b3a06",
   "metadata": {
    "ExecuteTime": {
     "end_time": "2023-07-07T16:22:48.881117Z",
     "start_time": "2023-07-07T16:22:48.851197Z"
    }
   },
   "outputs": [
    {
     "data": {
      "text/html": [
       "<div>\n",
       "<style scoped>\n",
       "    .dataframe tbody tr th:only-of-type {\n",
       "        vertical-align: middle;\n",
       "    }\n",
       "\n",
       "    .dataframe tbody tr th {\n",
       "        vertical-align: top;\n",
       "    }\n",
       "\n",
       "    .dataframe thead th {\n",
       "        text-align: right;\n",
       "    }\n",
       "</style>\n",
       "<table border=\"1\" class=\"dataframe\">\n",
       "  <thead>\n",
       "    <tr style=\"text-align: right;\">\n",
       "      <th></th>\n",
       "      <th>attributes</th>\n",
       "      <th>mean</th>\n",
       "      <th>median</th>\n",
       "      <th>std</th>\n",
       "      <th>min</th>\n",
       "      <th>max</th>\n",
       "      <th>range</th>\n",
       "      <th>skew</th>\n",
       "      <th>kurtosis</th>\n",
       "    </tr>\n",
       "  </thead>\n",
       "  <tbody>\n",
       "    <tr>\n",
       "      <th>0</th>\n",
       "      <td>id</td>\n",
       "      <td>49972.420</td>\n",
       "      <td>50001.5</td>\n",
       "      <td>28851.096</td>\n",
       "      <td>0.0</td>\n",
       "      <td>99999.0</td>\n",
       "      <td>99999.0</td>\n",
       "      <td>-0.001</td>\n",
       "      <td>-1.198</td>\n",
       "    </tr>\n",
       "    <tr>\n",
       "      <th>1</th>\n",
       "      <td>age</td>\n",
       "      <td>19468.866</td>\n",
       "      <td>19703.0</td>\n",
       "      <td>2467.234</td>\n",
       "      <td>10798.0</td>\n",
       "      <td>23713.0</td>\n",
       "      <td>12915.0</td>\n",
       "      <td>-0.307</td>\n",
       "      <td>-0.823</td>\n",
       "    </tr>\n",
       "    <tr>\n",
       "      <th>2</th>\n",
       "      <td>gender</td>\n",
       "      <td>1.350</td>\n",
       "      <td>1.0</td>\n",
       "      <td>0.477</td>\n",
       "      <td>1.0</td>\n",
       "      <td>2.0</td>\n",
       "      <td>1.0</td>\n",
       "      <td>0.631</td>\n",
       "      <td>-1.602</td>\n",
       "    </tr>\n",
       "    <tr>\n",
       "      <th>3</th>\n",
       "      <td>height</td>\n",
       "      <td>164.359</td>\n",
       "      <td>165.0</td>\n",
       "      <td>8.210</td>\n",
       "      <td>55.0</td>\n",
       "      <td>250.0</td>\n",
       "      <td>195.0</td>\n",
       "      <td>-0.642</td>\n",
       "      <td>7.944</td>\n",
       "    </tr>\n",
       "    <tr>\n",
       "      <th>4</th>\n",
       "      <td>weight</td>\n",
       "      <td>74.206</td>\n",
       "      <td>72.0</td>\n",
       "      <td>14.396</td>\n",
       "      <td>10.0</td>\n",
       "      <td>200.0</td>\n",
       "      <td>190.0</td>\n",
       "      <td>1.012</td>\n",
       "      <td>2.587</td>\n",
       "    </tr>\n",
       "    <tr>\n",
       "      <th>5</th>\n",
       "      <td>systolic</td>\n",
       "      <td>128.817</td>\n",
       "      <td>120.0</td>\n",
       "      <td>154.010</td>\n",
       "      <td>-150.0</td>\n",
       "      <td>16020.0</td>\n",
       "      <td>16170.0</td>\n",
       "      <td>85.296</td>\n",
       "      <td>7580.075</td>\n",
       "    </tr>\n",
       "    <tr>\n",
       "      <th>6</th>\n",
       "      <td>diastolic</td>\n",
       "      <td>96.630</td>\n",
       "      <td>80.0</td>\n",
       "      <td>188.471</td>\n",
       "      <td>-70.0</td>\n",
       "      <td>11000.0</td>\n",
       "      <td>11070.0</td>\n",
       "      <td>32.114</td>\n",
       "      <td>1425.915</td>\n",
       "    </tr>\n",
       "    <tr>\n",
       "      <th>7</th>\n",
       "      <td>cholesterol</td>\n",
       "      <td>1.367</td>\n",
       "      <td>1.0</td>\n",
       "      <td>0.680</td>\n",
       "      <td>1.0</td>\n",
       "      <td>3.0</td>\n",
       "      <td>2.0</td>\n",
       "      <td>1.587</td>\n",
       "      <td>0.994</td>\n",
       "    </tr>\n",
       "    <tr>\n",
       "      <th>8</th>\n",
       "      <td>gluc</td>\n",
       "      <td>1.226</td>\n",
       "      <td>1.0</td>\n",
       "      <td>0.572</td>\n",
       "      <td>1.0</td>\n",
       "      <td>3.0</td>\n",
       "      <td>2.0</td>\n",
       "      <td>2.397</td>\n",
       "      <td>4.294</td>\n",
       "    </tr>\n",
       "    <tr>\n",
       "      <th>9</th>\n",
       "      <td>smoke</td>\n",
       "      <td>0.088</td>\n",
       "      <td>0.0</td>\n",
       "      <td>0.283</td>\n",
       "      <td>0.0</td>\n",
       "      <td>1.0</td>\n",
       "      <td>1.0</td>\n",
       "      <td>2.906</td>\n",
       "      <td>6.444</td>\n",
       "    </tr>\n",
       "    <tr>\n",
       "      <th>10</th>\n",
       "      <td>alcohol</td>\n",
       "      <td>0.054</td>\n",
       "      <td>0.0</td>\n",
       "      <td>0.226</td>\n",
       "      <td>0.0</td>\n",
       "      <td>1.0</td>\n",
       "      <td>1.0</td>\n",
       "      <td>3.957</td>\n",
       "      <td>13.655</td>\n",
       "    </tr>\n",
       "    <tr>\n",
       "      <th>11</th>\n",
       "      <td>active</td>\n",
       "      <td>0.804</td>\n",
       "      <td>1.0</td>\n",
       "      <td>0.397</td>\n",
       "      <td>0.0</td>\n",
       "      <td>1.0</td>\n",
       "      <td>1.0</td>\n",
       "      <td>-1.529</td>\n",
       "      <td>0.339</td>\n",
       "    </tr>\n",
       "    <tr>\n",
       "      <th>12</th>\n",
       "      <td>cardio</td>\n",
       "      <td>0.500</td>\n",
       "      <td>0.0</td>\n",
       "      <td>0.500</td>\n",
       "      <td>0.0</td>\n",
       "      <td>1.0</td>\n",
       "      <td>1.0</td>\n",
       "      <td>0.001</td>\n",
       "      <td>-2.000</td>\n",
       "    </tr>\n",
       "  </tbody>\n",
       "</table>\n",
       "</div>"
      ],
      "text/plain": [
       "     attributes       mean   median        std      min      max    range  \\\n",
       "0            id  49972.420  50001.5  28851.096      0.0  99999.0  99999.0   \n",
       "1           age  19468.866  19703.0   2467.234  10798.0  23713.0  12915.0   \n",
       "2        gender      1.350      1.0      0.477      1.0      2.0      1.0   \n",
       "3        height    164.359    165.0      8.210     55.0    250.0    195.0   \n",
       "4        weight     74.206     72.0     14.396     10.0    200.0    190.0   \n",
       "5      systolic    128.817    120.0    154.010   -150.0  16020.0  16170.0   \n",
       "6     diastolic     96.630     80.0    188.471    -70.0  11000.0  11070.0   \n",
       "7   cholesterol      1.367      1.0      0.680      1.0      3.0      2.0   \n",
       "8          gluc      1.226      1.0      0.572      1.0      3.0      2.0   \n",
       "9         smoke      0.088      0.0      0.283      0.0      1.0      1.0   \n",
       "10      alcohol      0.054      0.0      0.226      0.0      1.0      1.0   \n",
       "11       active      0.804      1.0      0.397      0.0      1.0      1.0   \n",
       "12       cardio      0.500      0.0      0.500      0.0      1.0      1.0   \n",
       "\n",
       "      skew  kurtosis  \n",
       "0   -0.001    -1.198  \n",
       "1   -0.307    -0.823  \n",
       "2    0.631    -1.602  \n",
       "3   -0.642     7.944  \n",
       "4    1.012     2.587  \n",
       "5   85.296  7580.075  \n",
       "6   32.114  1425.915  \n",
       "7    1.587     0.994  \n",
       "8    2.397     4.294  \n",
       "9    2.906     6.444  \n",
       "10   3.957    13.655  \n",
       "11  -1.529     0.339  \n",
       "12   0.001    -2.000  "
      ]
     },
     "execution_count": 16,
     "metadata": {},
     "output_type": "execute_result"
    }
   ],
   "source": [
    "num_analysis = pd.concat([ct_mean, ct_median, ct_std, ct_min, \n",
    "                          ct_max, ct_range, ct_skew, ct_kurtosis]).T.reset_index()\n",
    "num_analysis.columns = ['attributes','mean','median','std','min','max','range','skew','kurtosis']\n",
    "num_analysis\n",
    "\n",
    "# kurtosis > 0 -> it is more \"narrowed\" the distribution\n",
    "# skew > 0 -> the distribution tend to be more on the right side (values above the 'mean')"
   ]
  },
  {
   "cell_type": "code",
   "execution_count": null,
   "id": "d2fe4f09",
   "metadata": {
    "ExecuteTime": {
     "end_time": "2023-06-25T13:21:27.936176Z",
     "start_time": "2023-06-25T13:21:27.924041Z"
    }
   },
   "outputs": [],
   "source": []
  },
  {
   "cell_type": "markdown",
   "id": "5ce7738b",
   "metadata": {},
   "source": [
    "# Data Filtering"
   ]
  },
  {
   "cell_type": "code",
   "execution_count": 17,
   "id": "3d416dfd",
   "metadata": {
    "ExecuteTime": {
     "end_time": "2023-07-07T16:22:48.897074Z",
     "start_time": "2023-07-07T16:22:48.883112Z"
    }
   },
   "outputs": [
    {
     "data": {
      "text/plain": [
       "(70000, 13)"
      ]
     },
     "execution_count": 17,
     "metadata": {},
     "output_type": "execute_result"
    }
   ],
   "source": [
    "df2 = df1.copy()\n",
    "df2.shape"
   ]
  },
  {
   "cell_type": "code",
   "execution_count": 18,
   "id": "8dbabac0",
   "metadata": {
    "ExecuteTime": {
     "end_time": "2023-07-07T16:22:48.927992Z",
     "start_time": "2023-07-07T16:22:48.899319Z"
    }
   },
   "outputs": [
    {
     "name": "stdout",
     "output_type": "stream",
     "text": [
      "cholesterol \n",
      " 1    74.836\n",
      "2    13.641\n",
      "3    11.523\n",
      "Name: cholesterol, dtype: float64\n",
      "gluc \n",
      " 1    84.970\n",
      "3     7.616\n",
      "2     7.414\n",
      "Name: gluc, dtype: float64\n",
      "smoke \n",
      " 0    91.187\n",
      "1     8.813\n",
      "Name: smoke, dtype: float64\n",
      "alcohol \n",
      " 0    94.623\n",
      "1     5.377\n",
      "Name: alcohol, dtype: float64\n",
      "active \n",
      " 1    80.373\n",
      "0    19.627\n",
      "Name: active, dtype: float64\n"
     ]
    }
   ],
   "source": [
    "for i in ['cholesterol', 'gluc', 'smoke', 'alcohol', 'active']:\n",
    "    print(i,'\\n',df2[i].value_counts(normalize = True)*100)"
   ]
  },
  {
   "cell_type": "markdown",
   "id": "c837816d",
   "metadata": {},
   "source": [
    "## incorrect weight"
   ]
  },
  {
   "cell_type": "code",
   "execution_count": 19,
   "id": "d40b29ca",
   "metadata": {
    "ExecuteTime": {
     "end_time": "2023-07-07T16:22:48.975864Z",
     "start_time": "2023-07-07T16:22:48.930985Z"
    }
   },
   "outputs": [
    {
     "data": {
      "text/html": [
       "<div>\n",
       "<style scoped>\n",
       "    .dataframe tbody tr th:only-of-type {\n",
       "        vertical-align: middle;\n",
       "    }\n",
       "\n",
       "    .dataframe tbody tr th {\n",
       "        vertical-align: top;\n",
       "    }\n",
       "\n",
       "    .dataframe thead th {\n",
       "        text-align: right;\n",
       "    }\n",
       "</style>\n",
       "<table border=\"1\" class=\"dataframe\">\n",
       "  <thead>\n",
       "    <tr style=\"text-align: right;\">\n",
       "      <th></th>\n",
       "      <th>id</th>\n",
       "      <th>age</th>\n",
       "      <th>gender</th>\n",
       "      <th>height</th>\n",
       "      <th>weight</th>\n",
       "      <th>systolic</th>\n",
       "      <th>diastolic</th>\n",
       "      <th>cholesterol</th>\n",
       "      <th>gluc</th>\n",
       "      <th>smoke</th>\n",
       "      <th>alcohol</th>\n",
       "      <th>active</th>\n",
       "      <th>cardio</th>\n",
       "    </tr>\n",
       "  </thead>\n",
       "  <tbody>\n",
       "    <tr>\n",
       "      <th>60188</th>\n",
       "      <td>85931</td>\n",
       "      <td>21855</td>\n",
       "      <td>1</td>\n",
       "      <td>162</td>\n",
       "      <td>21.0</td>\n",
       "      <td>120</td>\n",
       "      <td>80</td>\n",
       "      <td>2</td>\n",
       "      <td>1</td>\n",
       "      <td>0</td>\n",
       "      <td>0</td>\n",
       "      <td>1</td>\n",
       "      <td>1</td>\n",
       "    </tr>\n",
       "    <tr>\n",
       "      <th>26806</th>\n",
       "      <td>38312</td>\n",
       "      <td>23284</td>\n",
       "      <td>1</td>\n",
       "      <td>157</td>\n",
       "      <td>23.0</td>\n",
       "      <td>110</td>\n",
       "      <td>80</td>\n",
       "      <td>1</td>\n",
       "      <td>1</td>\n",
       "      <td>0</td>\n",
       "      <td>0</td>\n",
       "      <td>1</td>\n",
       "      <td>0</td>\n",
       "    </tr>\n",
       "    <tr>\n",
       "      <th>60699</th>\n",
       "      <td>86650</td>\n",
       "      <td>18875</td>\n",
       "      <td>1</td>\n",
       "      <td>171</td>\n",
       "      <td>29.0</td>\n",
       "      <td>110</td>\n",
       "      <td>70</td>\n",
       "      <td>2</td>\n",
       "      <td>1</td>\n",
       "      <td>0</td>\n",
       "      <td>0</td>\n",
       "      <td>1</td>\n",
       "      <td>1</td>\n",
       "    </tr>\n",
       "    <tr>\n",
       "      <th>3752</th>\n",
       "      <td>5306</td>\n",
       "      <td>15400</td>\n",
       "      <td>1</td>\n",
       "      <td>120</td>\n",
       "      <td>30.0</td>\n",
       "      <td>110</td>\n",
       "      <td>70</td>\n",
       "      <td>1</td>\n",
       "      <td>1</td>\n",
       "      <td>0</td>\n",
       "      <td>0</td>\n",
       "      <td>1</td>\n",
       "      <td>0</td>\n",
       "    </tr>\n",
       "    <tr>\n",
       "      <th>18559</th>\n",
       "      <td>26503</td>\n",
       "      <td>18140</td>\n",
       "      <td>1</td>\n",
       "      <td>160</td>\n",
       "      <td>30.0</td>\n",
       "      <td>120</td>\n",
       "      <td>80</td>\n",
       "      <td>1</td>\n",
       "      <td>1</td>\n",
       "      <td>0</td>\n",
       "      <td>0</td>\n",
       "      <td>1</td>\n",
       "      <td>1</td>\n",
       "    </tr>\n",
       "    <tr>\n",
       "      <th>41905</th>\n",
       "      <td>59853</td>\n",
       "      <td>21334</td>\n",
       "      <td>1</td>\n",
       "      <td>143</td>\n",
       "      <td>30.0</td>\n",
       "      <td>103</td>\n",
       "      <td>61</td>\n",
       "      <td>2</td>\n",
       "      <td>1</td>\n",
       "      <td>0</td>\n",
       "      <td>0</td>\n",
       "      <td>1</td>\n",
       "      <td>0</td>\n",
       "    </tr>\n",
       "    <tr>\n",
       "      <th>38417</th>\n",
       "      <td>54851</td>\n",
       "      <td>21809</td>\n",
       "      <td>1</td>\n",
       "      <td>154</td>\n",
       "      <td>32.0</td>\n",
       "      <td>110</td>\n",
       "      <td>60</td>\n",
       "      <td>1</td>\n",
       "      <td>1</td>\n",
       "      <td>0</td>\n",
       "      <td>0</td>\n",
       "      <td>1</td>\n",
       "      <td>0</td>\n",
       "    </tr>\n",
       "    <tr>\n",
       "      <th>35314</th>\n",
       "      <td>50443</td>\n",
       "      <td>19802</td>\n",
       "      <td>1</td>\n",
       "      <td>146</td>\n",
       "      <td>32.0</td>\n",
       "      <td>130</td>\n",
       "      <td>80</td>\n",
       "      <td>1</td>\n",
       "      <td>2</td>\n",
       "      <td>0</td>\n",
       "      <td>0</td>\n",
       "      <td>0</td>\n",
       "      <td>0</td>\n",
       "    </tr>\n",
       "    <tr>\n",
       "      <th>22016</th>\n",
       "      <td>31439</td>\n",
       "      <td>15359</td>\n",
       "      <td>1</td>\n",
       "      <td>146</td>\n",
       "      <td>32.0</td>\n",
       "      <td>100</td>\n",
       "      <td>70</td>\n",
       "      <td>1</td>\n",
       "      <td>1</td>\n",
       "      <td>0</td>\n",
       "      <td>0</td>\n",
       "      <td>0</td>\n",
       "      <td>0</td>\n",
       "    </tr>\n",
       "    <tr>\n",
       "      <th>65082</th>\n",
       "      <td>92896</td>\n",
       "      <td>22688</td>\n",
       "      <td>1</td>\n",
       "      <td>145</td>\n",
       "      <td>33.0</td>\n",
       "      <td>130</td>\n",
       "      <td>1000</td>\n",
       "      <td>2</td>\n",
       "      <td>1</td>\n",
       "      <td>0</td>\n",
       "      <td>0</td>\n",
       "      <td>1</td>\n",
       "      <td>1</td>\n",
       "    </tr>\n",
       "  </tbody>\n",
       "</table>\n",
       "</div>"
      ],
      "text/plain": [
       "          id    age  gender  height  weight  systolic  diastolic  cholesterol  \\\n",
       "60188  85931  21855       1     162    21.0       120         80            2   \n",
       "26806  38312  23284       1     157    23.0       110         80            1   \n",
       "60699  86650  18875       1     171    29.0       110         70            2   \n",
       "3752    5306  15400       1     120    30.0       110         70            1   \n",
       "18559  26503  18140       1     160    30.0       120         80            1   \n",
       "41905  59853  21334       1     143    30.0       103         61            2   \n",
       "38417  54851  21809       1     154    32.0       110         60            1   \n",
       "35314  50443  19802       1     146    32.0       130         80            1   \n",
       "22016  31439  15359       1     146    32.0       100         70            1   \n",
       "65082  92896  22688       1     145    33.0       130       1000            2   \n",
       "\n",
       "       gluc  smoke  alcohol  active  cardio  \n",
       "60188     1      0        0       1       1  \n",
       "26806     1      0        0       1       0  \n",
       "60699     1      0        0       1       1  \n",
       "3752      1      0        0       1       0  \n",
       "18559     1      0        0       1       1  \n",
       "41905     1      0        0       1       0  \n",
       "38417     1      0        0       1       0  \n",
       "35314     2      0        0       0       0  \n",
       "22016     1      0        0       0       0  \n",
       "65082     1      0        0       1       1  "
      ]
     },
     "execution_count": 19,
     "metadata": {},
     "output_type": "execute_result"
    }
   ],
   "source": [
    "df2.loc[df2['gender'] == 1].sort_values(by='weight').head(10)"
   ]
  },
  {
   "cell_type": "code",
   "execution_count": 20,
   "id": "a8ea5fa7",
   "metadata": {
    "ExecuteTime": {
     "end_time": "2023-07-07T16:22:48.991821Z",
     "start_time": "2023-07-07T16:22:48.977858Z"
    }
   },
   "outputs": [
    {
     "data": {
      "text/plain": [
       "(282, 13)"
      ]
     },
     "execution_count": 20,
     "metadata": {},
     "output_type": "execute_result"
    }
   ],
   "source": [
    "df2.loc[(df2['gender'] == 1) & (df2['weight'] < 45)].shape"
   ]
  },
  {
   "cell_type": "code",
   "execution_count": 21,
   "id": "fb00c73d",
   "metadata": {
    "ExecuteTime": {
     "end_time": "2023-07-07T16:22:49.007778Z",
     "start_time": "2023-07-07T16:22:48.992818Z"
    }
   },
   "outputs": [
    {
     "data": {
      "text/plain": [
       "(302, 13)"
      ]
     },
     "execution_count": 21,
     "metadata": {},
     "output_type": "execute_result"
    }
   ],
   "source": [
    "df2.loc[(df2['weight'] < 45)].shape"
   ]
  },
  {
   "cell_type": "code",
   "execution_count": 22,
   "id": "6d9fe6c7",
   "metadata": {
    "ExecuteTime": {
     "end_time": "2023-07-07T16:22:49.023736Z",
     "start_time": "2023-07-07T16:22:49.008776Z"
    }
   },
   "outputs": [],
   "source": [
    "df2 = df2.loc[(df2['weight'] >= 45)].copy()"
   ]
  },
  {
   "cell_type": "markdown",
   "id": "e2184aad",
   "metadata": {},
   "source": [
    "## incorrect height"
   ]
  },
  {
   "cell_type": "code",
   "execution_count": 23,
   "id": "b3e22b3f",
   "metadata": {
    "ExecuteTime": {
     "end_time": "2023-07-07T16:22:49.039693Z",
     "start_time": "2023-07-07T16:22:49.025731Z"
    }
   },
   "outputs": [
    {
     "data": {
      "text/plain": [
       "(52, 13)"
      ]
     },
     "execution_count": 23,
     "metadata": {},
     "output_type": "execute_result"
    }
   ],
   "source": [
    "df2.loc[(df2['height'] < 120)].shape"
   ]
  },
  {
   "cell_type": "code",
   "execution_count": 24,
   "id": "b7b57f09",
   "metadata": {
    "ExecuteTime": {
     "end_time": "2023-07-07T16:22:49.055650Z",
     "start_time": "2023-07-07T16:22:49.041688Z"
    }
   },
   "outputs": [],
   "source": [
    "df2 = df2.loc[(df2['height'] >= 120)].copy()"
   ]
  },
  {
   "cell_type": "code",
   "execution_count": null,
   "id": "6c0bc736",
   "metadata": {},
   "outputs": [],
   "source": []
  },
  {
   "cell_type": "markdown",
   "id": "2916c9ab",
   "metadata": {},
   "source": [
    "# Feature Engineering"
   ]
  },
  {
   "cell_type": "code",
   "execution_count": 25,
   "id": "e9b0cc65",
   "metadata": {
    "ExecuteTime": {
     "end_time": "2023-07-07T16:22:49.071615Z",
     "start_time": "2023-07-07T16:22:49.057645Z"
    }
   },
   "outputs": [
    {
     "data": {
      "text/plain": [
       "(69646, 13)"
      ]
     },
     "execution_count": 25,
     "metadata": {},
     "output_type": "execute_result"
    }
   ],
   "source": [
    "df3 = df2.copy()\n",
    "df3.shape"
   ]
  },
  {
   "cell_type": "code",
   "execution_count": 26,
   "id": "04d668e2",
   "metadata": {
    "ExecuteTime": {
     "end_time": "2023-07-07T16:22:49.119479Z",
     "start_time": "2023-07-07T16:22:49.073602Z"
    }
   },
   "outputs": [
    {
     "data": {
      "text/html": [
       "<div>\n",
       "<style scoped>\n",
       "    .dataframe tbody tr th:only-of-type {\n",
       "        vertical-align: middle;\n",
       "    }\n",
       "\n",
       "    .dataframe tbody tr th {\n",
       "        vertical-align: top;\n",
       "    }\n",
       "\n",
       "    .dataframe thead th {\n",
       "        text-align: right;\n",
       "    }\n",
       "</style>\n",
       "<table border=\"1\" class=\"dataframe\">\n",
       "  <thead>\n",
       "    <tr style=\"text-align: right;\">\n",
       "      <th></th>\n",
       "      <th>id</th>\n",
       "      <th>age</th>\n",
       "      <th>gender</th>\n",
       "      <th>height</th>\n",
       "      <th>weight</th>\n",
       "      <th>systolic</th>\n",
       "      <th>diastolic</th>\n",
       "      <th>cholesterol</th>\n",
       "      <th>gluc</th>\n",
       "      <th>smoke</th>\n",
       "      <th>alcohol</th>\n",
       "      <th>active</th>\n",
       "      <th>cardio</th>\n",
       "      <th>age_y</th>\n",
       "      <th>gender_s</th>\n",
       "      <th>cholesterol_s</th>\n",
       "      <th>gluc_s</th>\n",
       "      <th>smoke_s</th>\n",
       "      <th>alcohol_s</th>\n",
       "      <th>active_s</th>\n",
       "    </tr>\n",
       "  </thead>\n",
       "  <tbody>\n",
       "    <tr>\n",
       "      <th>0</th>\n",
       "      <td>0</td>\n",
       "      <td>18393</td>\n",
       "      <td>2</td>\n",
       "      <td>168</td>\n",
       "      <td>62.0</td>\n",
       "      <td>110</td>\n",
       "      <td>80</td>\n",
       "      <td>1</td>\n",
       "      <td>1</td>\n",
       "      <td>0</td>\n",
       "      <td>0</td>\n",
       "      <td>1</td>\n",
       "      <td>0</td>\n",
       "      <td>50</td>\n",
       "      <td>male</td>\n",
       "      <td>normal</td>\n",
       "      <td>normal</td>\n",
       "      <td>non-smoking</td>\n",
       "      <td>non alcoolic</td>\n",
       "      <td>active</td>\n",
       "    </tr>\n",
       "    <tr>\n",
       "      <th>1</th>\n",
       "      <td>1</td>\n",
       "      <td>20228</td>\n",
       "      <td>1</td>\n",
       "      <td>156</td>\n",
       "      <td>85.0</td>\n",
       "      <td>140</td>\n",
       "      <td>90</td>\n",
       "      <td>3</td>\n",
       "      <td>1</td>\n",
       "      <td>0</td>\n",
       "      <td>0</td>\n",
       "      <td>1</td>\n",
       "      <td>1</td>\n",
       "      <td>55</td>\n",
       "      <td>female</td>\n",
       "      <td>well above normal</td>\n",
       "      <td>normal</td>\n",
       "      <td>non-smoking</td>\n",
       "      <td>non alcoolic</td>\n",
       "      <td>active</td>\n",
       "    </tr>\n",
       "    <tr>\n",
       "      <th>2</th>\n",
       "      <td>2</td>\n",
       "      <td>18857</td>\n",
       "      <td>1</td>\n",
       "      <td>165</td>\n",
       "      <td>64.0</td>\n",
       "      <td>130</td>\n",
       "      <td>70</td>\n",
       "      <td>3</td>\n",
       "      <td>1</td>\n",
       "      <td>0</td>\n",
       "      <td>0</td>\n",
       "      <td>0</td>\n",
       "      <td>1</td>\n",
       "      <td>51</td>\n",
       "      <td>female</td>\n",
       "      <td>well above normal</td>\n",
       "      <td>normal</td>\n",
       "      <td>non-smoking</td>\n",
       "      <td>non alcoolic</td>\n",
       "      <td>non active</td>\n",
       "    </tr>\n",
       "    <tr>\n",
       "      <th>3</th>\n",
       "      <td>3</td>\n",
       "      <td>17623</td>\n",
       "      <td>2</td>\n",
       "      <td>169</td>\n",
       "      <td>82.0</td>\n",
       "      <td>150</td>\n",
       "      <td>100</td>\n",
       "      <td>1</td>\n",
       "      <td>1</td>\n",
       "      <td>0</td>\n",
       "      <td>0</td>\n",
       "      <td>1</td>\n",
       "      <td>1</td>\n",
       "      <td>48</td>\n",
       "      <td>male</td>\n",
       "      <td>normal</td>\n",
       "      <td>normal</td>\n",
       "      <td>non-smoking</td>\n",
       "      <td>non alcoolic</td>\n",
       "      <td>active</td>\n",
       "    </tr>\n",
       "    <tr>\n",
       "      <th>4</th>\n",
       "      <td>4</td>\n",
       "      <td>17474</td>\n",
       "      <td>1</td>\n",
       "      <td>156</td>\n",
       "      <td>56.0</td>\n",
       "      <td>100</td>\n",
       "      <td>60</td>\n",
       "      <td>1</td>\n",
       "      <td>1</td>\n",
       "      <td>0</td>\n",
       "      <td>0</td>\n",
       "      <td>0</td>\n",
       "      <td>0</td>\n",
       "      <td>47</td>\n",
       "      <td>female</td>\n",
       "      <td>normal</td>\n",
       "      <td>normal</td>\n",
       "      <td>non-smoking</td>\n",
       "      <td>non alcoolic</td>\n",
       "      <td>non active</td>\n",
       "    </tr>\n",
       "  </tbody>\n",
       "</table>\n",
       "</div>"
      ],
      "text/plain": [
       "   id    age  gender  height  weight  systolic  diastolic  cholesterol  gluc  \\\n",
       "0   0  18393       2     168    62.0       110         80            1     1   \n",
       "1   1  20228       1     156    85.0       140         90            3     1   \n",
       "2   2  18857       1     165    64.0       130         70            3     1   \n",
       "3   3  17623       2     169    82.0       150        100            1     1   \n",
       "4   4  17474       1     156    56.0       100         60            1     1   \n",
       "\n",
       "   smoke  alcohol  active  cardio  age_y gender_s      cholesterol_s  gluc_s  \\\n",
       "0      0        0       1       0     50     male             normal  normal   \n",
       "1      0        0       1       1     55   female  well above normal  normal   \n",
       "2      0        0       0       1     51   female  well above normal  normal   \n",
       "3      0        0       1       1     48     male             normal  normal   \n",
       "4      0        0       0       0     47   female             normal  normal   \n",
       "\n",
       "       smoke_s     alcohol_s    active_s  \n",
       "0  non-smoking  non alcoolic      active  \n",
       "1  non-smoking  non alcoolic      active  \n",
       "2  non-smoking  non alcoolic  non active  \n",
       "3  non-smoking  non alcoolic      active  \n",
       "4  non-smoking  non alcoolic  non active  "
      ]
     },
     "execution_count": 26,
     "metadata": {},
     "output_type": "execute_result"
    }
   ],
   "source": [
    "# age in years\n",
    "df3['age_y'] = df['age']/365\n",
    "df3['age_y'] = df3['age_y'].astype('int64')\n",
    "\n",
    "# gender\n",
    "gender_map = {1:'female',2:'male'}\n",
    "df3['gender_s'] = df3['gender'].map(gender_map)\n",
    "\n",
    "# cholesterol\n",
    "cholesterol_map = {1: 'normal', 2: 'above normal', 3: 'well above normal'}\n",
    "df3['cholesterol_s'] = df3['cholesterol'].map(cholesterol_map)\n",
    "\n",
    "# glucose\n",
    "gluc_map = {1: 'normal', 2: 'above normal', 3: 'well above normal'}\n",
    "df3['gluc_s'] = df3['gluc'].map(gluc_map)\n",
    "\n",
    "# smoking\n",
    "smoke_map = {1: 'smoking', 0: 'non-smoking'}\n",
    "df3['smoke_s'] = df3['smoke'].map(smoke_map)\n",
    "\n",
    "# alcohol\n",
    "alcohol_map = {1: 'alcoolic', 0: 'non alcoolic'}\n",
    "df3['alcohol_s'] = df3['alcohol'].map(alcohol_map)\n",
    "\n",
    "# active\n",
    "active_map = {1: 'active', 0: 'non active'}\n",
    "df3['active_s'] = df3['active'].map(active_map)\n",
    "\n",
    "df3.head()"
   ]
  },
  {
   "cell_type": "code",
   "execution_count": null,
   "id": "65e7d697",
   "metadata": {},
   "outputs": [],
   "source": []
  },
  {
   "cell_type": "code",
   "execution_count": null,
   "id": "b462e5e8",
   "metadata": {},
   "outputs": [],
   "source": []
  },
  {
   "cell_type": "markdown",
   "id": "d59bd6bf",
   "metadata": {},
   "source": [
    "# Exploratory Data Analysis"
   ]
  },
  {
   "cell_type": "code",
   "execution_count": 27,
   "id": "cbd5e691",
   "metadata": {
    "ExecuteTime": {
     "end_time": "2023-07-07T16:22:49.149399Z",
     "start_time": "2023-07-07T16:22:49.121475Z"
    }
   },
   "outputs": [
    {
     "data": {
      "text/plain": [
       "(69646, 20)"
      ]
     },
     "execution_count": 27,
     "metadata": {},
     "output_type": "execute_result"
    }
   ],
   "source": [
    "df4 = df3.copy()\n",
    "df4.shape"
   ]
  },
  {
   "cell_type": "code",
   "execution_count": 28,
   "id": "ce8fde3a",
   "metadata": {
    "ExecuteTime": {
     "end_time": "2023-07-07T16:22:49.165358Z",
     "start_time": "2023-07-07T16:22:49.158376Z"
    }
   },
   "outputs": [],
   "source": [
    "# profile = ProfileReport( df3 )\n",
    "# profile.to_file('output_v1.html')"
   ]
  },
  {
   "cell_type": "code",
   "execution_count": 29,
   "id": "70da2f3f",
   "metadata": {
    "ExecuteTime": {
     "end_time": "2023-07-07T16:22:49.181315Z",
     "start_time": "2023-07-07T16:22:49.168351Z"
    }
   },
   "outputs": [
    {
     "data": {
      "text/plain": [
       "Index(['id', 'age', 'gender', 'height', 'weight', 'systolic', 'diastolic',\n",
       "       'cholesterol', 'gluc', 'smoke', 'alcohol', 'active', 'cardio', 'age_y',\n",
       "       'gender_s', 'cholesterol_s', 'gluc_s', 'smoke_s', 'alcohol_s',\n",
       "       'active_s'],\n",
       "      dtype='object')"
      ]
     },
     "execution_count": 29,
     "metadata": {},
     "output_type": "execute_result"
    }
   ],
   "source": [
    "df4.columns"
   ]
  },
  {
   "cell_type": "markdown",
   "id": "65942490",
   "metadata": {},
   "source": [
    "## Univariate analysis"
   ]
  },
  {
   "cell_type": "code",
   "execution_count": 30,
   "id": "7f4027c1",
   "metadata": {
    "ExecuteTime": {
     "end_time": "2023-07-07T16:22:52.850148Z",
     "start_time": "2023-07-07T16:22:49.185305Z"
    }
   },
   "outputs": [
    {
     "data": {
      "text/plain": [
       "<matplotlib.legend.Legend at 0x2bfe07d2550>"
      ]
     },
     "execution_count": 30,
     "metadata": {},
     "output_type": "execute_result"
    },
    {
     "data": {
      "image/png": "[encoded data removed]",
      "text/plain": [
       "<Figure size 1600x1800 with 6 Axes>"
      ]
     },
     "metadata": {},
     "output_type": "display_data"
    }
   ],
   "source": [
    "fig, axes = plt.subplots(3,2,figsize=(16,18))\n",
    "\n",
    "sns.kdeplot(df4.loc[df4['gender_s'] == 'female']['height'], fill = True, label = 'gender 1 - female', \n",
    "            ax = axes[0,0], legend = True);\n",
    "sns.kdeplot(df4.loc[df4['gender_s'] == 'male']['height'], fill = True, label = 'gender 2 - male', \n",
    "            ax = axes[0,0], legend = True);\n",
    "\n",
    "sns.kdeplot(df4.loc[df4['gender_s'] == 'female']['weight'], fill = True, label = 'gender 1 - female', \n",
    "            ax = axes[0,1], legend = True);\n",
    "sns.kdeplot(df4.loc[df4['gender_s'] == 'male']['weight'], fill = True, label = 'gender 2 - male', \n",
    "            ax = axes[0,1], legend = True);\n",
    "\n",
    "sns.kdeplot(df4.loc[df4['gender_s'] == 'female']['cholesterol'], fill = True, label = 'gender 1 - female', \n",
    "            ax = axes[1,0], legend = True);\n",
    "sns.kdeplot(df4.loc[df4['gender_s'] == 'male']['cholesterol'], fill = True, label = 'gender 2 - male', \n",
    "            ax = axes[1,0], legend = True);\n",
    "\n",
    "sns.kdeplot(df4.loc[df4['gender_s'] == 'female']['smoke'], fill = True, label = 'gender 1 - female', \n",
    "            ax = axes[1,1], legend = True);\n",
    "sns.kdeplot(df4.loc[df4['gender_s'] == 'male']['smoke'], fill = True, label = 'gender 2 - male', \n",
    "            ax = axes[1,1], legend = True);\n",
    "\n",
    "sns.kdeplot(df4.loc[df4['gender_s'] == 'female']['alcohol'], fill = True, label = 'gender 1 - female', \n",
    "            ax = axes[2,0], legend = True);\n",
    "sns.kdeplot(df4.loc[df4['gender_s'] == 'male']['alcohol'], fill = True, label = 'gender 2 - male', \n",
    "            ax = axes[2,0], legend = True);\n",
    "\n",
    "sns.kdeplot(df4.loc[df4['gender_s'] == 'female']['active'], fill = True, label = 'gender 1 - female', \n",
    "            ax = axes[2,1], legend = True);\n",
    "sns.kdeplot(df4.loc[df4['gender_s'] == 'male']['active'], fill = True, label = 'gender 2 - male', \n",
    "            ax = axes[2,1], legend = True);\n",
    "\n",
    "\n",
    "axes[0,0].set_title('Height distribution')\n",
    "axes[0,1].set_title('Weight distribution')\n",
    "axes[1,0].set_title('Cholesterol distribution')\n",
    "axes[1,1].set_title('Smoke distribution')\n",
    "axes[2,0].set_title('Alcohol distribution')\n",
    "axes[2,1].set_title('Active distribution')\n",
    "axes[0,0].legend()\n",
    "axes[0,1].legend()\n",
    "axes[1,0].legend()\n",
    "axes[1,1].legend()\n",
    "axes[2,0].legend()\n",
    "axes[2,1].legend()"
   ]
  },
  {
   "cell_type": "code",
   "execution_count": 90,
   "id": "7bfe9b85",
   "metadata": {
    "ExecuteTime": {
     "end_time": "2023-07-07T16:55:54.433719Z",
     "start_time": "2023-07-07T16:55:50.416464Z"
    }
   },
   "outputs": [
    {
     "data": {
      "image/png": "[encoded data removed]",
      "text/plain": [
       "<Figure size 900x500 with 1 Axes>"
      ]
     },
     "metadata": {},
     "output_type": "display_data"
    }
   ],
   "source": [
    "fig, axes = plt.subplots(1,1,figsize = (9,5))\n",
    "sns.scatterplot(data = df4,x = 'height',y = 'weight', hue = 'age_y', palette = 'rainbow',ax = axes);"
   ]
  },
  {
   "cell_type": "markdown",
   "id": "14f628e3",
   "metadata": {
    "ExecuteTime": {
     "end_time": "2023-06-25T13:51:45.659001Z",
     "start_time": "2023-06-25T13:51:45.396009Z"
    }
   },
   "source": [
    "## Bivariate analysis"
   ]
  },
  {
   "cell_type": "markdown",
   "id": "93f05200",
   "metadata": {
    "ExecuteTime": {
     "end_time": "2023-06-25T13:52:56.138435Z",
     "start_time": "2023-06-25T13:52:55.621566Z"
    }
   },
   "source": [
    "- H1 - we have more cardio disease in male individuals then female\n",
    "- H2 - we have more cardio diseases in individuals with age higher than the average\n",
    "- H3 - In proportion, individuals with cholesterol 2 have more cardio disease than 1\n",
    "- H4 - In proportion, individuals with cholesterol 3 have more cardio disease than 2\n",
    "- H5 - In proportion, individuals with alcohol 1 have more cardio disease than 0\n",
    "- H6 - In proportion, individuals with smoke 1 have more cardio disease than 0\n",
    "- H7 - In proportion, individuals with active 1 have less cardio disease than 0\n",
    "- H8 - In proportion, individuals with glucose 2 have more cardio disease than 1\n",
    "- H9 - In proportion, individuals with glucose 3 have more cardio disease than 2"
   ]
  },
  {
   "cell_type": "markdown",
   "id": "a9a0bab5",
   "metadata": {},
   "source": [
    "### - H1 - we have more cardio disease in male individuals then female\n"
   ]
  },
  {
   "cell_type": "code",
   "execution_count": 31,
   "id": "0403d258",
   "metadata": {
    "ExecuteTime": {
     "end_time": "2023-07-07T16:22:52.881990Z",
     "start_time": "2023-07-07T16:22:52.852070Z"
    }
   },
   "outputs": [
    {
     "data": {
      "text/html": [
       "<div>\n",
       "<style scoped>\n",
       "    .dataframe tbody tr th:only-of-type {\n",
       "        vertical-align: middle;\n",
       "    }\n",
       "\n",
       "    .dataframe tbody tr th {\n",
       "        vertical-align: top;\n",
       "    }\n",
       "\n",
       "    .dataframe thead th {\n",
       "        text-align: right;\n",
       "    }\n",
       "</style>\n",
       "<table border=\"1\" class=\"dataframe\">\n",
       "  <thead>\n",
       "    <tr style=\"text-align: right;\">\n",
       "      <th></th>\n",
       "      <th>gender_s</th>\n",
       "      <th>cardio</th>\n",
       "      <th>qtde_cardio</th>\n",
       "    </tr>\n",
       "  </thead>\n",
       "  <tbody>\n",
       "    <tr>\n",
       "      <th>0</th>\n",
       "      <td>female</td>\n",
       "      <td>0</td>\n",
       "      <td>22691</td>\n",
       "    </tr>\n",
       "    <tr>\n",
       "      <th>1</th>\n",
       "      <td>female</td>\n",
       "      <td>1</td>\n",
       "      <td>22522</td>\n",
       "    </tr>\n",
       "    <tr>\n",
       "      <th>2</th>\n",
       "      <td>male</td>\n",
       "      <td>0</td>\n",
       "      <td>12083</td>\n",
       "    </tr>\n",
       "    <tr>\n",
       "      <th>3</th>\n",
       "      <td>male</td>\n",
       "      <td>1</td>\n",
       "      <td>12350</td>\n",
       "    </tr>\n",
       "  </tbody>\n",
       "</table>\n",
       "</div>"
      ],
      "text/plain": [
       "  gender_s  cardio  qtde_cardio\n",
       "0   female       0        22691\n",
       "1   female       1        22522\n",
       "2     male       0        12083\n",
       "3     male       1        12350"
      ]
     },
     "execution_count": 31,
     "metadata": {},
     "output_type": "execute_result"
    }
   ],
   "source": [
    "aux1 = df4.groupby(['gender_s','cardio'], as_index = False).agg(qtde_cardio = ('cardio','count'))\n",
    "aux1.head()"
   ]
  },
  {
   "cell_type": "code",
   "execution_count": 32,
   "id": "d0d8d1f2",
   "metadata": {
    "ExecuteTime": {
     "end_time": "2023-07-07T16:22:53.056598Z",
     "start_time": "2023-07-07T16:22:52.886978Z"
    }
   },
   "outputs": [
    {
     "data": {
      "image/png": "[encoded data removed]",
      "text/plain": [
       "<Figure size 1200x600 with 1 Axes>"
      ]
     },
     "metadata": {},
     "output_type": "display_data"
    }
   ],
   "source": [
    "fig, axes = plt.subplots(1,1,figsize=(12,6))\n",
    "sns.barplot(data = aux1, x = 'gender_s',y='qtde_cardio',hue = 'cardio', ax = axes);"
   ]
  },
  {
   "cell_type": "markdown",
   "id": "b74baa6f",
   "metadata": {},
   "source": [
    "### TRUE - We have a proportion of female above than male, but male has more diseases than female"
   ]
  },
  {
   "cell_type": "code",
   "execution_count": null,
   "id": "41ac84a8",
   "metadata": {},
   "outputs": [],
   "source": []
  },
  {
   "cell_type": "markdown",
   "id": "2bd394e9",
   "metadata": {},
   "source": [
    "### - H2 - we have more cardio diseases in individuals with age higher than the average\n"
   ]
  },
  {
   "cell_type": "code",
   "execution_count": 33,
   "id": "42b77118",
   "metadata": {
    "ExecuteTime": {
     "end_time": "2023-07-07T16:22:53.103519Z",
     "start_time": "2023-07-07T16:22:53.057596Z"
    }
   },
   "outputs": [
    {
     "data": {
      "text/html": [
       "<div>\n",
       "<style scoped>\n",
       "    .dataframe tbody tr th:only-of-type {\n",
       "        vertical-align: middle;\n",
       "    }\n",
       "\n",
       "    .dataframe tbody tr th {\n",
       "        vertical-align: top;\n",
       "    }\n",
       "\n",
       "    .dataframe thead th {\n",
       "        text-align: right;\n",
       "    }\n",
       "</style>\n",
       "<table border=\"1\" class=\"dataframe\">\n",
       "  <thead>\n",
       "    <tr style=\"text-align: right;\">\n",
       "      <th></th>\n",
       "      <th>rel_avg_age</th>\n",
       "      <th>cardio</th>\n",
       "      <th>qtde_cardio</th>\n",
       "    </tr>\n",
       "  </thead>\n",
       "  <tbody>\n",
       "    <tr>\n",
       "      <th>0</th>\n",
       "      <td>above average</td>\n",
       "      <td>0</td>\n",
       "      <td>15886</td>\n",
       "    </tr>\n",
       "    <tr>\n",
       "      <th>1</th>\n",
       "      <td>above average</td>\n",
       "      <td>1</td>\n",
       "      <td>22662</td>\n",
       "    </tr>\n",
       "    <tr>\n",
       "      <th>2</th>\n",
       "      <td>below average</td>\n",
       "      <td>0</td>\n",
       "      <td>18888</td>\n",
       "    </tr>\n",
       "    <tr>\n",
       "      <th>3</th>\n",
       "      <td>below average</td>\n",
       "      <td>1</td>\n",
       "      <td>12210</td>\n",
       "    </tr>\n",
       "  </tbody>\n",
       "</table>\n",
       "</div>"
      ],
      "text/plain": [
       "     rel_avg_age  cardio  qtde_cardio\n",
       "0  above average       0        15886\n",
       "1  above average       1        22662\n",
       "2  below average       0        18888\n",
       "3  below average       1        12210"
      ]
     },
     "execution_count": 33,
     "metadata": {},
     "output_type": "execute_result"
    }
   ],
   "source": [
    "avg_age = df4['age_y'].mean()\n",
    "aux1 = df4.copy()\n",
    "aux1['rel_avg_age'] = 'below average'\n",
    "aux1.loc[aux1['age_y'] >= avg_age, 'rel_avg_age'] = 'above average'\n",
    "aux1 = aux1.groupby(['rel_avg_age','cardio'], as_index = False).agg(qtde_cardio = ('cardio','count'))\n",
    "aux1.head()"
   ]
  },
  {
   "cell_type": "code",
   "execution_count": 34,
   "id": "a798da3e",
   "metadata": {
    "ExecuteTime": {
     "end_time": "2023-07-07T16:22:53.277943Z",
     "start_time": "2023-07-07T16:22:53.106465Z"
    }
   },
   "outputs": [
    {
     "data": {
      "image/png": "[encoded data removed]",
      "text/plain": [
       "<Figure size 1200x600 with 1 Axes>"
      ]
     },
     "metadata": {},
     "output_type": "display_data"
    }
   ],
   "source": [
    "fig, axes = plt.subplots(1,1,figsize=(12,6))\n",
    "sns.barplot(data = aux1, x = 'rel_avg_age',y='qtde_cardio',hue = 'cardio', ax = axes);"
   ]
  },
  {
   "cell_type": "markdown",
   "id": "62bd2140",
   "metadata": {},
   "source": [
    "### TRUE - individuals with age above the average has more chances of cardio disease"
   ]
  },
  {
   "cell_type": "code",
   "execution_count": null,
   "id": "a2edc20b",
   "metadata": {},
   "outputs": [],
   "source": []
  },
  {
   "cell_type": "markdown",
   "id": "b856557a",
   "metadata": {},
   "source": [
    "### - H3 - In proportion, individuals with cholesterol 2 have more cardio disease than 1\n"
   ]
  },
  {
   "cell_type": "code",
   "execution_count": 35,
   "id": "d67ad72a",
   "metadata": {
    "ExecuteTime": {
     "end_time": "2023-07-07T16:22:53.309801Z",
     "start_time": "2023-07-07T16:22:53.278988Z"
    }
   },
   "outputs": [
    {
     "data": {
      "text/html": [
       "<div>\n",
       "<style scoped>\n",
       "    .dataframe tbody tr th:only-of-type {\n",
       "        vertical-align: middle;\n",
       "    }\n",
       "\n",
       "    .dataframe tbody tr th {\n",
       "        vertical-align: top;\n",
       "    }\n",
       "\n",
       "    .dataframe thead th {\n",
       "        text-align: right;\n",
       "    }\n",
       "</style>\n",
       "<table border=\"1\" class=\"dataframe\">\n",
       "  <thead>\n",
       "    <tr style=\"text-align: right;\">\n",
       "      <th></th>\n",
       "      <th>cholesterol_s</th>\n",
       "      <th>cardio</th>\n",
       "      <th>qtde_cardio</th>\n",
       "    </tr>\n",
       "  </thead>\n",
       "  <tbody>\n",
       "    <tr>\n",
       "      <th>0</th>\n",
       "      <td>above normal</td>\n",
       "      <td>0</td>\n",
       "      <td>3768</td>\n",
       "    </tr>\n",
       "    <tr>\n",
       "      <th>1</th>\n",
       "      <td>above normal</td>\n",
       "      <td>1</td>\n",
       "      <td>5734</td>\n",
       "    </tr>\n",
       "    <tr>\n",
       "      <th>2</th>\n",
       "      <td>normal</td>\n",
       "      <td>0</td>\n",
       "      <td>29120</td>\n",
       "    </tr>\n",
       "    <tr>\n",
       "      <th>3</th>\n",
       "      <td>normal</td>\n",
       "      <td>1</td>\n",
       "      <td>22981</td>\n",
       "    </tr>\n",
       "  </tbody>\n",
       "</table>\n",
       "</div>"
      ],
      "text/plain": [
       "  cholesterol_s  cardio  qtde_cardio\n",
       "0  above normal       0         3768\n",
       "1  above normal       1         5734\n",
       "2        normal       0        29120\n",
       "3        normal       1        22981"
      ]
     },
     "execution_count": 35,
     "metadata": {},
     "output_type": "execute_result"
    }
   ],
   "source": [
    "aux1 = df4.groupby(['cholesterol_s','cardio'], as_index = False).agg(qtde_cardio = ('cardio','count'))\n",
    "aux1 = aux1.loc[aux1['cholesterol_s'].isin(['normal','above normal'])]\n",
    "aux1.head()"
   ]
  },
  {
   "cell_type": "code",
   "execution_count": 36,
   "id": "dd27aa99",
   "metadata": {
    "ExecuteTime": {
     "end_time": "2023-07-07T16:22:53.483098Z",
     "start_time": "2023-07-07T16:22:53.310798Z"
    }
   },
   "outputs": [
    {
     "data": {
      "image/png": "[encoded data removed]",
      "text/plain": [
       "<Figure size 1200x600 with 1 Axes>"
      ]
     },
     "metadata": {},
     "output_type": "display_data"
    }
   ],
   "source": [
    "fig, axes = plt.subplots(1,1,figsize=(12,6))\n",
    "sns.barplot(data = aux1, x = 'cholesterol_s',y='qtde_cardio',hue = 'cardio', ax = axes);"
   ]
  },
  {
   "cell_type": "markdown",
   "id": "1345ff16",
   "metadata": {},
   "source": [
    "### TRUE"
   ]
  },
  {
   "cell_type": "code",
   "execution_count": null,
   "id": "74df0235",
   "metadata": {},
   "outputs": [],
   "source": []
  },
  {
   "cell_type": "markdown",
   "id": "7291563b",
   "metadata": {},
   "source": [
    "### - H4 - In proportion, individuals with cholesterol 3 have more cardio disease than 2\n"
   ]
  },
  {
   "cell_type": "code",
   "execution_count": 37,
   "id": "4c3d1d55",
   "metadata": {
    "ExecuteTime": {
     "end_time": "2023-07-07T16:22:53.514854Z",
     "start_time": "2023-07-07T16:22:53.485093Z"
    }
   },
   "outputs": [
    {
     "data": {
      "text/html": [
       "<div>\n",
       "<style scoped>\n",
       "    .dataframe tbody tr th:only-of-type {\n",
       "        vertical-align: middle;\n",
       "    }\n",
       "\n",
       "    .dataframe tbody tr th {\n",
       "        vertical-align: top;\n",
       "    }\n",
       "\n",
       "    .dataframe thead th {\n",
       "        text-align: right;\n",
       "    }\n",
       "</style>\n",
       "<table border=\"1\" class=\"dataframe\">\n",
       "  <thead>\n",
       "    <tr style=\"text-align: right;\">\n",
       "      <th></th>\n",
       "      <th>cholesterol_s</th>\n",
       "      <th>cardio</th>\n",
       "      <th>qtde_cardio</th>\n",
       "    </tr>\n",
       "  </thead>\n",
       "  <tbody>\n",
       "    <tr>\n",
       "      <th>0</th>\n",
       "      <td>above normal</td>\n",
       "      <td>0</td>\n",
       "      <td>3768</td>\n",
       "    </tr>\n",
       "    <tr>\n",
       "      <th>1</th>\n",
       "      <td>above normal</td>\n",
       "      <td>1</td>\n",
       "      <td>5734</td>\n",
       "    </tr>\n",
       "    <tr>\n",
       "      <th>4</th>\n",
       "      <td>well above normal</td>\n",
       "      <td>0</td>\n",
       "      <td>1886</td>\n",
       "    </tr>\n",
       "    <tr>\n",
       "      <th>5</th>\n",
       "      <td>well above normal</td>\n",
       "      <td>1</td>\n",
       "      <td>6157</td>\n",
       "    </tr>\n",
       "  </tbody>\n",
       "</table>\n",
       "</div>"
      ],
      "text/plain": [
       "       cholesterol_s  cardio  qtde_cardio\n",
       "0       above normal       0         3768\n",
       "1       above normal       1         5734\n",
       "4  well above normal       0         1886\n",
       "5  well above normal       1         6157"
      ]
     },
     "execution_count": 37,
     "metadata": {},
     "output_type": "execute_result"
    }
   ],
   "source": [
    "aux1 = df4.groupby(['cholesterol_s','cardio'], as_index = False).agg(qtde_cardio = ('cardio','count'))\n",
    "aux1 = aux1.loc[aux1['cholesterol_s'].isin(['well above normal','above normal'])]\n",
    "aux1.head()"
   ]
  },
  {
   "cell_type": "code",
   "execution_count": 38,
   "id": "53c0775b",
   "metadata": {
    "ExecuteTime": {
     "end_time": "2023-07-07T16:22:53.686573Z",
     "start_time": "2023-07-07T16:22:53.520845Z"
    }
   },
   "outputs": [
    {
     "data": {
      "image/png": "[encoded data removed]",
      "text/plain": [
       "<Figure size 1200x600 with 1 Axes>"
      ]
     },
     "metadata": {},
     "output_type": "display_data"
    }
   ],
   "source": [
    "fig, axes = plt.subplots(1,1,figsize=(12,6))\n",
    "sns.barplot(data = aux1, x = 'cholesterol_s',y='qtde_cardio',hue = 'cardio', ax = axes);"
   ]
  },
  {
   "cell_type": "markdown",
   "id": "8d94b94f",
   "metadata": {},
   "source": [
    "### TRUE"
   ]
  },
  {
   "cell_type": "code",
   "execution_count": null,
   "id": "826936cc",
   "metadata": {},
   "outputs": [],
   "source": []
  },
  {
   "cell_type": "markdown",
   "id": "ee6d16c8",
   "metadata": {},
   "source": [
    "### - H5 - In proportion, individuals with alcohol 1 have more cardio disease than 0\n"
   ]
  },
  {
   "cell_type": "code",
   "execution_count": 39,
   "id": "1777ef3b",
   "metadata": {
    "ExecuteTime": {
     "end_time": "2023-07-07T16:22:53.718619Z",
     "start_time": "2023-07-07T16:22:53.688561Z"
    }
   },
   "outputs": [
    {
     "data": {
      "text/html": [
       "<div>\n",
       "<style scoped>\n",
       "    .dataframe tbody tr th:only-of-type {\n",
       "        vertical-align: middle;\n",
       "    }\n",
       "\n",
       "    .dataframe tbody tr th {\n",
       "        vertical-align: top;\n",
       "    }\n",
       "\n",
       "    .dataframe thead th {\n",
       "        text-align: right;\n",
       "    }\n",
       "</style>\n",
       "<table border=\"1\" class=\"dataframe\">\n",
       "  <thead>\n",
       "    <tr style=\"text-align: right;\">\n",
       "      <th></th>\n",
       "      <th>alcohol_s</th>\n",
       "      <th>cardio</th>\n",
       "      <th>qtde_cardio</th>\n",
       "    </tr>\n",
       "  </thead>\n",
       "  <tbody>\n",
       "    <tr>\n",
       "      <th>0</th>\n",
       "      <td>alcoolic</td>\n",
       "      <td>0</td>\n",
       "      <td>1932</td>\n",
       "    </tr>\n",
       "    <tr>\n",
       "      <th>1</th>\n",
       "      <td>alcoolic</td>\n",
       "      <td>1</td>\n",
       "      <td>1821</td>\n",
       "    </tr>\n",
       "    <tr>\n",
       "      <th>2</th>\n",
       "      <td>non alcoolic</td>\n",
       "      <td>0</td>\n",
       "      <td>32842</td>\n",
       "    </tr>\n",
       "    <tr>\n",
       "      <th>3</th>\n",
       "      <td>non alcoolic</td>\n",
       "      <td>1</td>\n",
       "      <td>33051</td>\n",
       "    </tr>\n",
       "  </tbody>\n",
       "</table>\n",
       "</div>"
      ],
      "text/plain": [
       "      alcohol_s  cardio  qtde_cardio\n",
       "0      alcoolic       0         1932\n",
       "1      alcoolic       1         1821\n",
       "2  non alcoolic       0        32842\n",
       "3  non alcoolic       1        33051"
      ]
     },
     "execution_count": 39,
     "metadata": {},
     "output_type": "execute_result"
    }
   ],
   "source": [
    "aux1 = df4.groupby(['alcohol_s','cardio'], as_index = False).agg(qtde_cardio = ('cardio','count'))\n",
    "aux1.head()"
   ]
  },
  {
   "cell_type": "code",
   "execution_count": 40,
   "id": "d859f380",
   "metadata": {
    "ExecuteTime": {
     "end_time": "2023-07-07T16:22:53.894056Z",
     "start_time": "2023-07-07T16:22:53.723585Z"
    }
   },
   "outputs": [
    {
     "data": {
      "image/png": "[encoded data removed]",
      "text/plain": [
       "<Figure size 1200x600 with 1 Axes>"
      ]
     },
     "metadata": {},
     "output_type": "display_data"
    }
   ],
   "source": [
    "fig, axes = plt.subplots(1,1,figsize=(12,6))\n",
    "sns.barplot(data = aux1, x = 'alcohol_s',y='qtde_cardio',hue = 'cardio', ax = axes);"
   ]
  },
  {
   "cell_type": "markdown",
   "id": "d2e31805",
   "metadata": {},
   "source": [
    "### FALSE - there's no difference"
   ]
  },
  {
   "cell_type": "code",
   "execution_count": null,
   "id": "6e7c45e7",
   "metadata": {},
   "outputs": [],
   "source": []
  },
  {
   "cell_type": "markdown",
   "id": "aa76e538",
   "metadata": {},
   "source": [
    "### - H6 - In proportion, individuals with smoke 1 have more cardio disease than 0\n"
   ]
  },
  {
   "cell_type": "code",
   "execution_count": 41,
   "id": "67e9b898",
   "metadata": {
    "ExecuteTime": {
     "end_time": "2023-07-07T16:22:53.925678Z",
     "start_time": "2023-07-07T16:22:53.896056Z"
    }
   },
   "outputs": [
    {
     "data": {
      "text/html": [
       "<div>\n",
       "<style scoped>\n",
       "    .dataframe tbody tr th:only-of-type {\n",
       "        vertical-align: middle;\n",
       "    }\n",
       "\n",
       "    .dataframe tbody tr th {\n",
       "        vertical-align: top;\n",
       "    }\n",
       "\n",
       "    .dataframe thead th {\n",
       "        text-align: right;\n",
       "    }\n",
       "</style>\n",
       "<table border=\"1\" class=\"dataframe\">\n",
       "  <thead>\n",
       "    <tr style=\"text-align: right;\">\n",
       "      <th></th>\n",
       "      <th>smoke_s</th>\n",
       "      <th>cardio</th>\n",
       "      <th>qtde_cardio</th>\n",
       "    </tr>\n",
       "  </thead>\n",
       "  <tbody>\n",
       "    <tr>\n",
       "      <th>0</th>\n",
       "      <td>non-smoking</td>\n",
       "      <td>0</td>\n",
       "      <td>31544</td>\n",
       "    </tr>\n",
       "    <tr>\n",
       "      <th>1</th>\n",
       "      <td>non-smoking</td>\n",
       "      <td>1</td>\n",
       "      <td>31948</td>\n",
       "    </tr>\n",
       "    <tr>\n",
       "      <th>2</th>\n",
       "      <td>smoking</td>\n",
       "      <td>0</td>\n",
       "      <td>3230</td>\n",
       "    </tr>\n",
       "    <tr>\n",
       "      <th>3</th>\n",
       "      <td>smoking</td>\n",
       "      <td>1</td>\n",
       "      <td>2924</td>\n",
       "    </tr>\n",
       "  </tbody>\n",
       "</table>\n",
       "</div>"
      ],
      "text/plain": [
       "       smoke_s  cardio  qtde_cardio\n",
       "0  non-smoking       0        31544\n",
       "1  non-smoking       1        31948\n",
       "2      smoking       0         3230\n",
       "3      smoking       1         2924"
      ]
     },
     "execution_count": 41,
     "metadata": {},
     "output_type": "execute_result"
    }
   ],
   "source": [
    "aux1 = df4.groupby(['smoke_s','cardio'], as_index = False).agg(qtde_cardio = ('cardio','count'))\n",
    "aux1.head()"
   ]
  },
  {
   "cell_type": "code",
   "execution_count": 42,
   "id": "1283b37a",
   "metadata": {
    "ExecuteTime": {
     "end_time": "2023-07-07T16:22:54.084437Z",
     "start_time": "2023-07-07T16:22:53.927675Z"
    }
   },
   "outputs": [
    {
     "data": {
      "image/png": "[encoded data removed]",
      "text/plain": [
       "<Figure size 1200x600 with 1 Axes>"
      ]
     },
     "metadata": {},
     "output_type": "display_data"
    }
   ],
   "source": [
    "fig, axes = plt.subplots(1,1,figsize=(12,6))\n",
    "sns.barplot(data = aux1, x = 'smoke_s',y='qtde_cardio',hue = 'cardio', ax = axes);"
   ]
  },
  {
   "cell_type": "markdown",
   "id": "a62a9ada",
   "metadata": {},
   "source": [
    "### FALSE : no difference"
   ]
  },
  {
   "cell_type": "code",
   "execution_count": null,
   "id": "c0f47afe",
   "metadata": {},
   "outputs": [],
   "source": []
  },
  {
   "cell_type": "markdown",
   "id": "19a22b4e",
   "metadata": {},
   "source": [
    "### - H7 - In proportion, individuals with active 1 have less cardio disease than 0\n"
   ]
  },
  {
   "cell_type": "code",
   "execution_count": 43,
   "id": "f14dc131",
   "metadata": {
    "ExecuteTime": {
     "end_time": "2023-07-07T16:22:54.116362Z",
     "start_time": "2023-07-07T16:22:54.086431Z"
    }
   },
   "outputs": [
    {
     "data": {
      "text/html": [
       "<div>\n",
       "<style scoped>\n",
       "    .dataframe tbody tr th:only-of-type {\n",
       "        vertical-align: middle;\n",
       "    }\n",
       "\n",
       "    .dataframe tbody tr th {\n",
       "        vertical-align: top;\n",
       "    }\n",
       "\n",
       "    .dataframe thead th {\n",
       "        text-align: right;\n",
       "    }\n",
       "</style>\n",
       "<table border=\"1\" class=\"dataframe\">\n",
       "  <thead>\n",
       "    <tr style=\"text-align: right;\">\n",
       "      <th></th>\n",
       "      <th>active_s</th>\n",
       "      <th>cardio</th>\n",
       "      <th>qtde_cardio</th>\n",
       "    </tr>\n",
       "  </thead>\n",
       "  <tbody>\n",
       "    <tr>\n",
       "      <th>0</th>\n",
       "      <td>active</td>\n",
       "      <td>0</td>\n",
       "      <td>28435</td>\n",
       "    </tr>\n",
       "    <tr>\n",
       "      <th>1</th>\n",
       "      <td>active</td>\n",
       "      <td>1</td>\n",
       "      <td>27525</td>\n",
       "    </tr>\n",
       "    <tr>\n",
       "      <th>2</th>\n",
       "      <td>non active</td>\n",
       "      <td>0</td>\n",
       "      <td>6339</td>\n",
       "    </tr>\n",
       "    <tr>\n",
       "      <th>3</th>\n",
       "      <td>non active</td>\n",
       "      <td>1</td>\n",
       "      <td>7347</td>\n",
       "    </tr>\n",
       "  </tbody>\n",
       "</table>\n",
       "</div>"
      ],
      "text/plain": [
       "     active_s  cardio  qtde_cardio\n",
       "0      active       0        28435\n",
       "1      active       1        27525\n",
       "2  non active       0         6339\n",
       "3  non active       1         7347"
      ]
     },
     "execution_count": 43,
     "metadata": {},
     "output_type": "execute_result"
    }
   ],
   "source": [
    "aux1 = df4.groupby(['active_s','cardio'], as_index = False).agg(qtde_cardio = ('cardio','count'))\n",
    "aux1.head()"
   ]
  },
  {
   "cell_type": "code",
   "execution_count": 44,
   "id": "f0dbdb59",
   "metadata": {
    "ExecuteTime": {
     "end_time": "2023-07-07T16:22:54.274419Z",
     "start_time": "2023-07-07T16:22:54.119353Z"
    }
   },
   "outputs": [
    {
     "data": {
      "image/png": "[encoded data removed]",
      "text/plain": [
       "<Figure size 1200x600 with 1 Axes>"
      ]
     },
     "metadata": {},
     "output_type": "display_data"
    }
   ],
   "source": [
    "fig, axes = plt.subplots(1,1,figsize=(12,6))\n",
    "sns.barplot(data = aux1, x = 'active_s',y='qtde_cardio',hue = 'cardio', ax = axes);"
   ]
  },
  {
   "cell_type": "markdown",
   "id": "147a805b",
   "metadata": {},
   "source": [
    "### TRUE : non active has more chances"
   ]
  },
  {
   "cell_type": "code",
   "execution_count": null,
   "id": "1f7a2158",
   "metadata": {},
   "outputs": [],
   "source": []
  },
  {
   "cell_type": "markdown",
   "id": "8f23051f",
   "metadata": {},
   "source": [
    "### - H8 - In proportion, individuals with glucose 2 have more cardio disease than 1\n"
   ]
  },
  {
   "cell_type": "code",
   "execution_count": 45,
   "id": "2c4a0b4a",
   "metadata": {
    "ExecuteTime": {
     "end_time": "2023-07-07T16:22:54.305896Z",
     "start_time": "2023-07-07T16:22:54.277045Z"
    }
   },
   "outputs": [
    {
     "data": {
      "text/html": [
       "<div>\n",
       "<style scoped>\n",
       "    .dataframe tbody tr th:only-of-type {\n",
       "        vertical-align: middle;\n",
       "    }\n",
       "\n",
       "    .dataframe tbody tr th {\n",
       "        vertical-align: top;\n",
       "    }\n",
       "\n",
       "    .dataframe thead th {\n",
       "        text-align: right;\n",
       "    }\n",
       "</style>\n",
       "<table border=\"1\" class=\"dataframe\">\n",
       "  <thead>\n",
       "    <tr style=\"text-align: right;\">\n",
       "      <th></th>\n",
       "      <th>gluc_s</th>\n",
       "      <th>cardio</th>\n",
       "      <th>qtde_cardio</th>\n",
       "    </tr>\n",
       "  </thead>\n",
       "  <tbody>\n",
       "    <tr>\n",
       "      <th>0</th>\n",
       "      <td>above normal</td>\n",
       "      <td>0</td>\n",
       "      <td>2098</td>\n",
       "    </tr>\n",
       "    <tr>\n",
       "      <th>1</th>\n",
       "      <td>above normal</td>\n",
       "      <td>1</td>\n",
       "      <td>3074</td>\n",
       "    </tr>\n",
       "    <tr>\n",
       "      <th>2</th>\n",
       "      <td>normal</td>\n",
       "      <td>0</td>\n",
       "      <td>30669</td>\n",
       "    </tr>\n",
       "    <tr>\n",
       "      <th>3</th>\n",
       "      <td>normal</td>\n",
       "      <td>1</td>\n",
       "      <td>28491</td>\n",
       "    </tr>\n",
       "    <tr>\n",
       "      <th>4</th>\n",
       "      <td>well above normal</td>\n",
       "      <td>0</td>\n",
       "      <td>2007</td>\n",
       "    </tr>\n",
       "  </tbody>\n",
       "</table>\n",
       "</div>"
      ],
      "text/plain": [
       "              gluc_s  cardio  qtde_cardio\n",
       "0       above normal       0         2098\n",
       "1       above normal       1         3074\n",
       "2             normal       0        30669\n",
       "3             normal       1        28491\n",
       "4  well above normal       0         2007"
      ]
     },
     "execution_count": 45,
     "metadata": {},
     "output_type": "execute_result"
    }
   ],
   "source": [
    "aux1 = df4.groupby(['gluc_s','cardio'], as_index = False).agg(qtde_cardio = ('cardio','count'))\n",
    "aux1.head()"
   ]
  },
  {
   "cell_type": "code",
   "execution_count": 46,
   "id": "5e1676f1",
   "metadata": {
    "ExecuteTime": {
     "end_time": "2023-07-07T16:22:54.480480Z",
     "start_time": "2023-07-07T16:22:54.307891Z"
    }
   },
   "outputs": [
    {
     "data": {
      "image/png": "[encoded data removed]",
      "text/plain": [
       "<Figure size 1200x600 with 1 Axes>"
      ]
     },
     "metadata": {},
     "output_type": "display_data"
    }
   ],
   "source": [
    "fig, axes = plt.subplots(1,1,figsize=(12,6))\n",
    "sns.barplot(data = aux1, x = 'gluc_s',y='qtde_cardio',hue = 'cardio', ax = axes);"
   ]
  },
  {
   "cell_type": "markdown",
   "id": "9da05b9f",
   "metadata": {},
   "source": [
    "### TRUE - increased levels of glucose can increase chances of cardio disease"
   ]
  },
  {
   "cell_type": "code",
   "execution_count": null,
   "id": "25812051",
   "metadata": {},
   "outputs": [],
   "source": []
  },
  {
   "cell_type": "markdown",
   "id": "599ed744",
   "metadata": {},
   "source": [
    "### - H9 - In proportion, individuals with glucose 3 have more cardio disease than 2"
   ]
  },
  {
   "cell_type": "code",
   "execution_count": null,
   "id": "f0366e46",
   "metadata": {},
   "outputs": [],
   "source": []
  },
  {
   "cell_type": "markdown",
   "id": "0eb9ed79",
   "metadata": {
    "ExecuteTime": {
     "end_time": "2023-06-25T13:53:29.435127Z",
     "start_time": "2023-06-25T13:53:29.420932Z"
    }
   },
   "source": [
    "## Multivariate analysis"
   ]
  },
  {
   "cell_type": "code",
   "execution_count": 47,
   "id": "229a1791",
   "metadata": {
    "ExecuteTime": {
     "end_time": "2023-07-07T16:22:55.622744Z",
     "start_time": "2023-07-07T16:22:54.483421Z"
    }
   },
   "outputs": [
    {
     "name": "stderr",
     "output_type": "stream",
     "text": [
      "C:\\Users\\pedro\\AppData\\Local\\Temp\\ipykernel_3064\\1981286909.py:1: FutureWarning: The default value of numeric_only in DataFrame.corr is deprecated. In a future version, it will default to False. Select only valid columns or specify the value of numeric_only to silence this warning.\n",
      "  correlation = df4.corr(method = 'pearson')\n"
     ]
    },
    {
     "data": {
      "image/png": "[encoded data removed]",
      "text/plain": [
       "<Figure size 1200x700 with 2 Axes>"
      ]
     },
     "metadata": {},
     "output_type": "display_data"
    }
   ],
   "source": [
    "correlation = df4.corr(method = 'pearson')\n",
    "fig, axes = plt.subplots(1,1,figsize=(12,7))\n",
    "sns.heatmap(correlation, annot = True, ax = axes);"
   ]
  },
  {
   "cell_type": "code",
   "execution_count": null,
   "id": "c4cd837a",
   "metadata": {},
   "outputs": [],
   "source": []
  },
  {
   "cell_type": "code",
   "execution_count": null,
   "id": "cf04ac7a",
   "metadata": {},
   "outputs": [],
   "source": []
  },
  {
   "cell_type": "code",
   "execution_count": null,
   "id": "7e9c7556",
   "metadata": {},
   "outputs": [],
   "source": []
  },
  {
   "cell_type": "markdown",
   "id": "13e66c66",
   "metadata": {},
   "source": [
    "# Data Preparation"
   ]
  },
  {
   "cell_type": "code",
   "execution_count": 48,
   "id": "d73c7b82",
   "metadata": {
    "ExecuteTime": {
     "end_time": "2023-07-07T16:22:55.653684Z",
     "start_time": "2023-07-07T16:22:55.624667Z"
    }
   },
   "outputs": [
    {
     "name": "stdout",
     "output_type": "stream",
     "text": [
      "(69646, 20)\n"
     ]
    },
    {
     "data": {
      "text/html": [
       "<div>\n",
       "<style scoped>\n",
       "    .dataframe tbody tr th:only-of-type {\n",
       "        vertical-align: middle;\n",
       "    }\n",
       "\n",
       "    .dataframe tbody tr th {\n",
       "        vertical-align: top;\n",
       "    }\n",
       "\n",
       "    .dataframe thead th {\n",
       "        text-align: right;\n",
       "    }\n",
       "</style>\n",
       "<table border=\"1\" class=\"dataframe\">\n",
       "  <thead>\n",
       "    <tr style=\"text-align: right;\">\n",
       "      <th></th>\n",
       "      <th>id</th>\n",
       "      <th>age</th>\n",
       "      <th>gender</th>\n",
       "      <th>height</th>\n",
       "      <th>weight</th>\n",
       "      <th>systolic</th>\n",
       "      <th>diastolic</th>\n",
       "      <th>cholesterol</th>\n",
       "      <th>gluc</th>\n",
       "      <th>smoke</th>\n",
       "      <th>alcohol</th>\n",
       "      <th>active</th>\n",
       "      <th>cardio</th>\n",
       "      <th>age_y</th>\n",
       "      <th>gender_s</th>\n",
       "      <th>cholesterol_s</th>\n",
       "      <th>gluc_s</th>\n",
       "      <th>smoke_s</th>\n",
       "      <th>alcohol_s</th>\n",
       "      <th>active_s</th>\n",
       "    </tr>\n",
       "  </thead>\n",
       "  <tbody>\n",
       "    <tr>\n",
       "      <th>0</th>\n",
       "      <td>0</td>\n",
       "      <td>18393</td>\n",
       "      <td>2</td>\n",
       "      <td>168</td>\n",
       "      <td>62.0</td>\n",
       "      <td>110</td>\n",
       "      <td>80</td>\n",
       "      <td>1</td>\n",
       "      <td>1</td>\n",
       "      <td>0</td>\n",
       "      <td>0</td>\n",
       "      <td>1</td>\n",
       "      <td>0</td>\n",
       "      <td>50</td>\n",
       "      <td>male</td>\n",
       "      <td>normal</td>\n",
       "      <td>normal</td>\n",
       "      <td>non-smoking</td>\n",
       "      <td>non alcoolic</td>\n",
       "      <td>active</td>\n",
       "    </tr>\n",
       "    <tr>\n",
       "      <th>1</th>\n",
       "      <td>1</td>\n",
       "      <td>20228</td>\n",
       "      <td>1</td>\n",
       "      <td>156</td>\n",
       "      <td>85.0</td>\n",
       "      <td>140</td>\n",
       "      <td>90</td>\n",
       "      <td>3</td>\n",
       "      <td>1</td>\n",
       "      <td>0</td>\n",
       "      <td>0</td>\n",
       "      <td>1</td>\n",
       "      <td>1</td>\n",
       "      <td>55</td>\n",
       "      <td>female</td>\n",
       "      <td>well above normal</td>\n",
       "      <td>normal</td>\n",
       "      <td>non-smoking</td>\n",
       "      <td>non alcoolic</td>\n",
       "      <td>active</td>\n",
       "    </tr>\n",
       "    <tr>\n",
       "      <th>2</th>\n",
       "      <td>2</td>\n",
       "      <td>18857</td>\n",
       "      <td>1</td>\n",
       "      <td>165</td>\n",
       "      <td>64.0</td>\n",
       "      <td>130</td>\n",
       "      <td>70</td>\n",
       "      <td>3</td>\n",
       "      <td>1</td>\n",
       "      <td>0</td>\n",
       "      <td>0</td>\n",
       "      <td>0</td>\n",
       "      <td>1</td>\n",
       "      <td>51</td>\n",
       "      <td>female</td>\n",
       "      <td>well above normal</td>\n",
       "      <td>normal</td>\n",
       "      <td>non-smoking</td>\n",
       "      <td>non alcoolic</td>\n",
       "      <td>non active</td>\n",
       "    </tr>\n",
       "  </tbody>\n",
       "</table>\n",
       "</div>"
      ],
      "text/plain": [
       "   id    age  gender  height  weight  systolic  diastolic  cholesterol  gluc  \\\n",
       "0   0  18393       2     168    62.0       110         80            1     1   \n",
       "1   1  20228       1     156    85.0       140         90            3     1   \n",
       "2   2  18857       1     165    64.0       130         70            3     1   \n",
       "\n",
       "   smoke  alcohol  active  cardio  age_y gender_s      cholesterol_s  gluc_s  \\\n",
       "0      0        0       1       0     50     male             normal  normal   \n",
       "1      0        0       1       1     55   female  well above normal  normal   \n",
       "2      0        0       0       1     51   female  well above normal  normal   \n",
       "\n",
       "       smoke_s     alcohol_s    active_s  \n",
       "0  non-smoking  non alcoolic      active  \n",
       "1  non-smoking  non alcoolic      active  \n",
       "2  non-smoking  non alcoolic  non active  "
      ]
     },
     "execution_count": 48,
     "metadata": {},
     "output_type": "execute_result"
    }
   ],
   "source": [
    "df5 = df4.copy()\n",
    "print(df5.shape)\n",
    "df5.head(3)"
   ]
  },
  {
   "cell_type": "markdown",
   "id": "89ff0f36",
   "metadata": {
    "ExecuteTime": {
     "end_time": "2023-06-25T17:45:29.936704Z",
     "start_time": "2023-06-25T17:45:29.903228Z"
    }
   },
   "source": [
    "## MinMax"
   ]
  },
  {
   "cell_type": "code",
   "execution_count": 49,
   "id": "a9cf1fa0",
   "metadata": {
    "ExecuteTime": {
     "end_time": "2023-07-07T16:22:55.733377Z",
     "start_time": "2023-07-07T16:22:55.655584Z"
    }
   },
   "outputs": [
    {
     "data": {
      "text/html": [
       "<div>\n",
       "<style scoped>\n",
       "    .dataframe tbody tr th:only-of-type {\n",
       "        vertical-align: middle;\n",
       "    }\n",
       "\n",
       "    .dataframe tbody tr th {\n",
       "        vertical-align: top;\n",
       "    }\n",
       "\n",
       "    .dataframe thead th {\n",
       "        text-align: right;\n",
       "    }\n",
       "</style>\n",
       "<table border=\"1\" class=\"dataframe\">\n",
       "  <thead>\n",
       "    <tr style=\"text-align: right;\">\n",
       "      <th></th>\n",
       "      <th>id</th>\n",
       "      <th>age</th>\n",
       "      <th>gender</th>\n",
       "      <th>height</th>\n",
       "      <th>weight</th>\n",
       "      <th>systolic</th>\n",
       "      <th>diastolic</th>\n",
       "      <th>cholesterol</th>\n",
       "      <th>gluc</th>\n",
       "      <th>smoke</th>\n",
       "      <th>alcohol</th>\n",
       "      <th>active</th>\n",
       "      <th>cardio</th>\n",
       "      <th>age_y</th>\n",
       "      <th>gender_s</th>\n",
       "      <th>cholesterol_s</th>\n",
       "      <th>gluc_s</th>\n",
       "      <th>smoke_s</th>\n",
       "      <th>alcohol_s</th>\n",
       "      <th>active_s</th>\n",
       "    </tr>\n",
       "  </thead>\n",
       "  <tbody>\n",
       "    <tr>\n",
       "      <th>0</th>\n",
       "      <td>0</td>\n",
       "      <td>18393</td>\n",
       "      <td>2</td>\n",
       "      <td>0.369</td>\n",
       "      <td>0.110</td>\n",
       "      <td>0.016</td>\n",
       "      <td>0.014</td>\n",
       "      <td>1</td>\n",
       "      <td>1</td>\n",
       "      <td>0</td>\n",
       "      <td>0</td>\n",
       "      <td>1</td>\n",
       "      <td>0</td>\n",
       "      <td>0.600</td>\n",
       "      <td>male</td>\n",
       "      <td>normal</td>\n",
       "      <td>normal</td>\n",
       "      <td>non-smoking</td>\n",
       "      <td>non alcoolic</td>\n",
       "      <td>active</td>\n",
       "    </tr>\n",
       "    <tr>\n",
       "      <th>1</th>\n",
       "      <td>1</td>\n",
       "      <td>20228</td>\n",
       "      <td>1</td>\n",
       "      <td>0.277</td>\n",
       "      <td>0.258</td>\n",
       "      <td>0.018</td>\n",
       "      <td>0.014</td>\n",
       "      <td>3</td>\n",
       "      <td>1</td>\n",
       "      <td>0</td>\n",
       "      <td>0</td>\n",
       "      <td>1</td>\n",
       "      <td>1</td>\n",
       "      <td>0.743</td>\n",
       "      <td>female</td>\n",
       "      <td>well above normal</td>\n",
       "      <td>normal</td>\n",
       "      <td>non-smoking</td>\n",
       "      <td>non alcoolic</td>\n",
       "      <td>active</td>\n",
       "    </tr>\n",
       "    <tr>\n",
       "      <th>2</th>\n",
       "      <td>2</td>\n",
       "      <td>18857</td>\n",
       "      <td>1</td>\n",
       "      <td>0.346</td>\n",
       "      <td>0.123</td>\n",
       "      <td>0.017</td>\n",
       "      <td>0.013</td>\n",
       "      <td>3</td>\n",
       "      <td>1</td>\n",
       "      <td>0</td>\n",
       "      <td>0</td>\n",
       "      <td>0</td>\n",
       "      <td>1</td>\n",
       "      <td>0.629</td>\n",
       "      <td>female</td>\n",
       "      <td>well above normal</td>\n",
       "      <td>normal</td>\n",
       "      <td>non-smoking</td>\n",
       "      <td>non alcoolic</td>\n",
       "      <td>non active</td>\n",
       "    </tr>\n",
       "    <tr>\n",
       "      <th>3</th>\n",
       "      <td>3</td>\n",
       "      <td>17623</td>\n",
       "      <td>2</td>\n",
       "      <td>0.377</td>\n",
       "      <td>0.239</td>\n",
       "      <td>0.019</td>\n",
       "      <td>0.015</td>\n",
       "      <td>1</td>\n",
       "      <td>1</td>\n",
       "      <td>0</td>\n",
       "      <td>0</td>\n",
       "      <td>1</td>\n",
       "      <td>1</td>\n",
       "      <td>0.543</td>\n",
       "      <td>male</td>\n",
       "      <td>normal</td>\n",
       "      <td>normal</td>\n",
       "      <td>non-smoking</td>\n",
       "      <td>non alcoolic</td>\n",
       "      <td>active</td>\n",
       "    </tr>\n",
       "    <tr>\n",
       "      <th>4</th>\n",
       "      <td>4</td>\n",
       "      <td>17474</td>\n",
       "      <td>1</td>\n",
       "      <td>0.277</td>\n",
       "      <td>0.071</td>\n",
       "      <td>0.015</td>\n",
       "      <td>0.012</td>\n",
       "      <td>1</td>\n",
       "      <td>1</td>\n",
       "      <td>0</td>\n",
       "      <td>0</td>\n",
       "      <td>0</td>\n",
       "      <td>0</td>\n",
       "      <td>0.514</td>\n",
       "      <td>female</td>\n",
       "      <td>normal</td>\n",
       "      <td>normal</td>\n",
       "      <td>non-smoking</td>\n",
       "      <td>non alcoolic</td>\n",
       "      <td>non active</td>\n",
       "    </tr>\n",
       "  </tbody>\n",
       "</table>\n",
       "</div>"
      ],
      "text/plain": [
       "   id    age  gender  height  weight  systolic  diastolic  cholesterol  gluc  \\\n",
       "0   0  18393       2   0.369   0.110     0.016      0.014            1     1   \n",
       "1   1  20228       1   0.277   0.258     0.018      0.014            3     1   \n",
       "2   2  18857       1   0.346   0.123     0.017      0.013            3     1   \n",
       "3   3  17623       2   0.377   0.239     0.019      0.015            1     1   \n",
       "4   4  17474       1   0.277   0.071     0.015      0.012            1     1   \n",
       "\n",
       "   smoke  alcohol  active  cardio  age_y gender_s      cholesterol_s  gluc_s  \\\n",
       "0      0        0       1       0  0.600     male             normal  normal   \n",
       "1      0        0       1       1  0.743   female  well above normal  normal   \n",
       "2      0        0       0       1  0.629   female  well above normal  normal   \n",
       "3      0        0       1       1  0.543     male             normal  normal   \n",
       "4      0        0       0       0  0.514   female             normal  normal   \n",
       "\n",
       "       smoke_s     alcohol_s    active_s  \n",
       "0  non-smoking  non alcoolic      active  \n",
       "1  non-smoking  non alcoolic      active  \n",
       "2  non-smoking  non alcoolic  non active  \n",
       "3  non-smoking  non alcoolic      active  \n",
       "4  non-smoking  non alcoolic  non active  "
      ]
     },
     "execution_count": 49,
     "metadata": {},
     "output_type": "execute_result"
    }
   ],
   "source": [
    "for i in ['height','weight','systolic','diastolic','age_y']:\n",
    "    min_max = MinMaxScaler()\n",
    "    df5[i] = min_max.fit_transform(df5[[i]].values)\n",
    "    joblib.dump(min_max, '../models/min_max_{}.pkl'.format(i))\n",
    "\n",
    "df5.head()"
   ]
  },
  {
   "cell_type": "code",
   "execution_count": null,
   "id": "8b0075bd",
   "metadata": {},
   "outputs": [],
   "source": []
  },
  {
   "cell_type": "markdown",
   "id": "20e1132c",
   "metadata": {},
   "source": [
    "# Feature Selection"
   ]
  },
  {
   "cell_type": "code",
   "execution_count": 50,
   "id": "aea085d1",
   "metadata": {
    "ExecuteTime": {
     "end_time": "2023-07-07T16:22:55.763337Z",
     "start_time": "2023-07-07T16:22:55.736368Z"
    }
   },
   "outputs": [
    {
     "data": {
      "text/plain": [
       "(69646, 20)"
      ]
     },
     "execution_count": 50,
     "metadata": {},
     "output_type": "execute_result"
    }
   ],
   "source": [
    "df6 = df5.copy()\n",
    "df6.reset_index(drop = True, inplace = True)\n",
    "df6.shape"
   ]
  },
  {
   "cell_type": "code",
   "execution_count": 51,
   "id": "72662403",
   "metadata": {
    "ExecuteTime": {
     "end_time": "2023-07-07T16:22:55.779253Z",
     "start_time": "2023-07-07T16:22:55.766289Z"
    }
   },
   "outputs": [],
   "source": [
    "cols_drop = ['age','id','gender_s','cholesterol_s','gluc_s','smoke_s','alcohol_s','active_s']"
   ]
  },
  {
   "cell_type": "code",
   "execution_count": 52,
   "id": "425666d5",
   "metadata": {
    "ExecuteTime": {
     "end_time": "2023-07-07T16:22:55.795212Z",
     "start_time": "2023-07-07T16:22:55.781248Z"
    }
   },
   "outputs": [],
   "source": [
    "df6 = df6.drop(cols_drop, axis = 1)"
   ]
  },
  {
   "cell_type": "code",
   "execution_count": null,
   "id": "315551de",
   "metadata": {
    "ExecuteTime": {
     "end_time": "2023-06-25T18:12:17.138485Z",
     "start_time": "2023-06-25T18:12:17.119242Z"
    }
   },
   "outputs": [],
   "source": []
  },
  {
   "cell_type": "markdown",
   "id": "4827a45a",
   "metadata": {},
   "source": [
    "## Split train/test"
   ]
  },
  {
   "cell_type": "code",
   "execution_count": 53,
   "id": "25925bfd",
   "metadata": {
    "ExecuteTime": {
     "end_time": "2023-07-07T16:22:55.811168Z",
     "start_time": "2023-07-07T16:22:55.796208Z"
    }
   },
   "outputs": [],
   "source": [
    "X = df6.drop(['cardio'], axis = 1)\n",
    "y = df6[['cardio']]"
   ]
  },
  {
   "cell_type": "code",
   "execution_count": 54,
   "id": "eee89f09",
   "metadata": {
    "ExecuteTime": {
     "end_time": "2023-07-07T16:22:55.858288Z",
     "start_time": "2023-07-07T16:22:55.813162Z"
    }
   },
   "outputs": [],
   "source": [
    "x_train, x_test, y_train, y_test = train_test_split(X,y,test_size = 0.2, random_state = 42)\n",
    "x_train, x_val, y_train, y_val = train_test_split(x_train,y_train,test_size = 0.2, random_state = 42)"
   ]
  },
  {
   "cell_type": "code",
   "execution_count": 55,
   "id": "5b776fa0",
   "metadata": {
    "ExecuteTime": {
     "end_time": "2023-07-07T16:22:55.874217Z",
     "start_time": "2023-07-07T16:22:55.860215Z"
    }
   },
   "outputs": [
    {
     "name": "stdout",
     "output_type": "stream",
     "text": [
      "x_train: (44572, 11)\n",
      "x_val: (11144, 11)\n",
      "x_test: (13930, 11)\n"
     ]
    }
   ],
   "source": [
    "print('x_train:',x_train.shape)\n",
    "print('x_val:',x_val.shape)\n",
    "print('x_test:',x_test.shape)"
   ]
  },
  {
   "cell_type": "markdown",
   "id": "621fbc1a",
   "metadata": {},
   "source": [
    "## Model"
   ]
  },
  {
   "cell_type": "markdown",
   "id": "153772bf",
   "metadata": {},
   "source": [
    "### RF"
   ]
  },
  {
   "cell_type": "code",
   "execution_count": 56,
   "id": "d0b6e64d",
   "metadata": {
    "ExecuteTime": {
     "end_time": "2023-07-07T16:23:02.617336Z",
     "start_time": "2023-07-07T16:22:55.876174Z"
    }
   },
   "outputs": [],
   "source": [
    "# model\n",
    "rf = RandomForestClassifier(n_estimators=100,min_samples_leaf=10, max_depth=10,n_jobs = 2, random_state = 42)\n",
    "\n",
    "# # fit\n",
    "# rf.fit(x_train, y_train)\n",
    "\n",
    "# # prediction\n",
    "# y_hat_val = rf.predict(x_val)\n",
    "\n",
    "# # performance\n",
    "# rf_metrics = ml_metrics( 'random_forest', y_val, y_hat_val)\n",
    "rf_metrics = model_cross_validation('random_forest', rf, X, y)"
   ]
  },
  {
   "cell_type": "markdown",
   "id": "dc0aba30",
   "metadata": {},
   "source": [
    "### LR"
   ]
  },
  {
   "cell_type": "code",
   "execution_count": 57,
   "id": "5f7c50ce",
   "metadata": {
    "ExecuteTime": {
     "end_time": "2023-07-07T16:23:13.253381Z",
     "start_time": "2023-07-07T16:23:02.625243Z"
    }
   },
   "outputs": [],
   "source": [
    "# model\n",
    "lr_model = LogisticRegression(n_jobs = 2, random_state = 42)\n",
    "\n",
    "# # fit\n",
    "# lr_model.fit(x_train, y_train)\n",
    "\n",
    "# # prediction\n",
    "# y_hat_val = lr_model.predict(x_val)\n",
    "\n",
    "# # performance\n",
    "# lr_metrics = ml_metrics( 'logistic_regression', y_val, y_hat_val)\n",
    "lr_metrics = model_cross_validation('logistic_regression', lr_model, X, y)"
   ]
  },
  {
   "cell_type": "code",
   "execution_count": null,
   "id": "29076ef3",
   "metadata": {},
   "outputs": [],
   "source": []
  },
  {
   "cell_type": "markdown",
   "id": "233c67a1",
   "metadata": {},
   "source": [
    "### XGB"
   ]
  },
  {
   "cell_type": "code",
   "execution_count": 58,
   "id": "d191c886",
   "metadata": {
    "ExecuteTime": {
     "end_time": "2023-07-07T16:23:31.593323Z",
     "start_time": "2023-07-07T16:23:13.255377Z"
    }
   },
   "outputs": [],
   "source": [
    "# model\n",
    "xgb_model = XGBClassifier(n_estimators=100, max_depth=10,n_jobs = 2, random_state = 42)\n",
    "\n",
    "# # fit\n",
    "# xgb_model.fit(x_train, y_train)\n",
    "\n",
    "# # prediction\n",
    "# y_hat_val = xgb_model.predict(x_val)\n",
    "\n",
    "# # performance\n",
    "# xgb_metrics = ml_metrics( 'xgb_classifier', y_val, y_hat_val)\n",
    "xgb_metrics = model_cross_validation('xgb_classifier', xgb_model, X, y)"
   ]
  },
  {
   "cell_type": "code",
   "execution_count": null,
   "id": "ae88b5a2",
   "metadata": {},
   "outputs": [],
   "source": []
  },
  {
   "cell_type": "markdown",
   "id": "2b966514",
   "metadata": {},
   "source": [
    "### KNN"
   ]
  },
  {
   "cell_type": "code",
   "execution_count": 59,
   "id": "afd7787b",
   "metadata": {
    "ExecuteTime": {
     "end_time": "2023-07-07T16:23:48.168172Z",
     "start_time": "2023-07-07T16:23:31.595318Z"
    }
   },
   "outputs": [],
   "source": [
    "# model\n",
    "knn_model = KNeighborsClassifier(n_neighbors= 10,n_jobs = 2)\n",
    "\n",
    "# # fit\n",
    "# knn_model.fit(x_train, y_train)\n",
    "\n",
    "# # prediction\n",
    "# y_hat_val = knn_model.predict(x_val)\n",
    "\n",
    "# # performance\n",
    "# knn_metrics = ml_metrics( 'knn_classifier', y_val, y_hat_val)\n",
    "knn_metrics = model_cross_validation('knn_classifier', knn_model, X, y)"
   ]
  },
  {
   "cell_type": "code",
   "execution_count": null,
   "id": "85db7d71",
   "metadata": {},
   "outputs": [],
   "source": []
  },
  {
   "cell_type": "markdown",
   "id": "c4c38be8",
   "metadata": {},
   "source": [
    "### Comparison"
   ]
  },
  {
   "cell_type": "code",
   "execution_count": 60,
   "id": "a1cb17ce",
   "metadata": {
    "ExecuteTime": {
     "end_time": "2023-07-07T16:23:48.200087Z",
     "start_time": "2023-07-07T16:23:48.171165Z"
    }
   },
   "outputs": [
    {
     "data": {
      "text/html": [
       "<div>\n",
       "<style scoped>\n",
       "    .dataframe tbody tr th:only-of-type {\n",
       "        vertical-align: middle;\n",
       "    }\n",
       "\n",
       "    .dataframe tbody tr th {\n",
       "        vertical-align: top;\n",
       "    }\n",
       "\n",
       "    .dataframe thead th {\n",
       "        text-align: right;\n",
       "    }\n",
       "</style>\n",
       "<table border=\"1\" class=\"dataframe\">\n",
       "  <thead>\n",
       "    <tr style=\"text-align: right;\">\n",
       "      <th></th>\n",
       "      <th>Model Name</th>\n",
       "      <th>Mean ACC</th>\n",
       "      <th>Std ACC</th>\n",
       "      <th>Mean PRECISION</th>\n",
       "      <th>Std PRECISION</th>\n",
       "      <th>Mean RECALL</th>\n",
       "      <th>Std RECALL</th>\n",
       "    </tr>\n",
       "  </thead>\n",
       "  <tbody>\n",
       "    <tr>\n",
       "      <th>0</th>\n",
       "      <td>random_forest</td>\n",
       "      <td>73.55</td>\n",
       "      <td>0.29</td>\n",
       "      <td>76.18</td>\n",
       "      <td>0.57</td>\n",
       "      <td>68.65</td>\n",
       "      <td>0.31</td>\n",
       "    </tr>\n",
       "    <tr>\n",
       "      <th>0</th>\n",
       "      <td>xgb_classifier</td>\n",
       "      <td>72.41</td>\n",
       "      <td>0.55</td>\n",
       "      <td>74.17</td>\n",
       "      <td>0.67</td>\n",
       "      <td>68.89</td>\n",
       "      <td>0.45</td>\n",
       "    </tr>\n",
       "    <tr>\n",
       "      <th>0</th>\n",
       "      <td>logistic_regression</td>\n",
       "      <td>64.79</td>\n",
       "      <td>0.58</td>\n",
       "      <td>65.78</td>\n",
       "      <td>0.73</td>\n",
       "      <td>61.87</td>\n",
       "      <td>0.30</td>\n",
       "    </tr>\n",
       "    <tr>\n",
       "      <th>0</th>\n",
       "      <td>knn_classifier</td>\n",
       "      <td>61.83</td>\n",
       "      <td>0.34</td>\n",
       "      <td>64.38</td>\n",
       "      <td>0.50</td>\n",
       "      <td>53.19</td>\n",
       "      <td>0.34</td>\n",
       "    </tr>\n",
       "  </tbody>\n",
       "</table>\n",
       "</div>"
      ],
      "text/plain": [
       "            Model Name  Mean ACC  Std ACC  Mean PRECISION  Std PRECISION  \\\n",
       "0        random_forest     73.55     0.29           76.18           0.57   \n",
       "0       xgb_classifier     72.41     0.55           74.17           0.67   \n",
       "0  logistic_regression     64.79     0.58           65.78           0.73   \n",
       "0       knn_classifier     61.83     0.34           64.38           0.50   \n",
       "\n",
       "   Mean RECALL  Std RECALL  \n",
       "0        68.65        0.31  \n",
       "0        68.89        0.45  \n",
       "0        61.87        0.30  \n",
       "0        53.19        0.34  "
      ]
     },
     "execution_count": 60,
     "metadata": {},
     "output_type": "execute_result"
    }
   ],
   "source": [
    "modeling_result = pd.concat([rf_metrics, xgb_metrics, lr_metrics, knn_metrics])\n",
    "modeling_result.sort_values('Mean ACC', ascending = False)"
   ]
  },
  {
   "cell_type": "code",
   "execution_count": null,
   "id": "3d114aba",
   "metadata": {},
   "outputs": [],
   "source": []
  },
  {
   "cell_type": "markdown",
   "id": "b149e2fc",
   "metadata": {},
   "source": [
    "# Hyperparameter fine-tunning"
   ]
  },
  {
   "cell_type": "code",
   "execution_count": 61,
   "id": "97559a3e",
   "metadata": {
    "ExecuteTime": {
     "end_time": "2023-07-07T16:23:48.216045Z",
     "start_time": "2023-07-07T16:23:48.202083Z"
    }
   },
   "outputs": [],
   "source": [
    "param = {\n",
    "    'n_estimators': [100, 300,500, 700, 900],\n",
    "    'learning_rate': [0.01, 0.03, 0.05],\n",
    "    'max_depth': [3, 5, 9,13,17],\n",
    "    'subsample': [0.1, 0.5, 0.7],\n",
    "    'colsample_bytree': [0.3, 0.7, 0.9],\n",
    "    'min_child_weight': [3, 8, 15,25]\n",
    "    }\n",
    "MAX_EVAL = 5"
   ]
  },
  {
   "cell_type": "code",
   "execution_count": 62,
   "id": "3c9bd889",
   "metadata": {
    "ExecuteTime": {
     "end_time": "2023-07-07T16:33:23.477441Z",
     "start_time": "2023-07-07T16:23:48.218040Z"
    }
   },
   "outputs": [
    {
     "name": "stdout",
     "output_type": "stream",
     "text": [
      "{'n_estimators': 300, 'learning_rate': 0.05, 'max_depth': 17, 'subsample': 0.5, 'colsample_bytree': 0.3, 'min_child_weight': 15}\n",
      "{'n_estimators': 700, 'learning_rate': 0.05, 'max_depth': 5, 'subsample': 0.1, 'colsample_bytree': 0.9, 'min_child_weight': 25}\n",
      "{'n_estimators': 100, 'learning_rate': 0.01, 'max_depth': 5, 'subsample': 0.5, 'colsample_bytree': 0.9, 'min_child_weight': 25}\n",
      "{'n_estimators': 700, 'learning_rate': 0.01, 'max_depth': 17, 'subsample': 0.5, 'colsample_bytree': 0.7, 'min_child_weight': 3}\n",
      "{'n_estimators': 900, 'learning_rate': 0.03, 'max_depth': 17, 'subsample': 0.7, 'colsample_bytree': 0.7, 'min_child_weight': 8}\n"
     ]
    },
    {
     "data": {
      "text/html": [
       "<div>\n",
       "<style scoped>\n",
       "    .dataframe tbody tr th:only-of-type {\n",
       "        vertical-align: middle;\n",
       "    }\n",
       "\n",
       "    .dataframe tbody tr th {\n",
       "        vertical-align: top;\n",
       "    }\n",
       "\n",
       "    .dataframe thead th {\n",
       "        text-align: right;\n",
       "    }\n",
       "</style>\n",
       "<table border=\"1\" class=\"dataframe\">\n",
       "  <thead>\n",
       "    <tr style=\"text-align: right;\">\n",
       "      <th></th>\n",
       "      <th>Model Name</th>\n",
       "      <th>Mean ACC</th>\n",
       "      <th>Std ACC</th>\n",
       "      <th>Mean PRECISION</th>\n",
       "      <th>Std PRECISION</th>\n",
       "      <th>Mean RECALL</th>\n",
       "      <th>Std RECALL</th>\n",
       "    </tr>\n",
       "  </thead>\n",
       "  <tbody>\n",
       "    <tr>\n",
       "      <th>0</th>\n",
       "      <td>xgb_classifier</td>\n",
       "      <td>73.39</td>\n",
       "      <td>0.42</td>\n",
       "      <td>75.69</td>\n",
       "      <td>0.60</td>\n",
       "      <td>69.02</td>\n",
       "      <td>0.20</td>\n",
       "    </tr>\n",
       "    <tr>\n",
       "      <th>0</th>\n",
       "      <td>xgb_classifier</td>\n",
       "      <td>73.55</td>\n",
       "      <td>0.36</td>\n",
       "      <td>75.34</td>\n",
       "      <td>0.48</td>\n",
       "      <td>70.14</td>\n",
       "      <td>0.24</td>\n",
       "    </tr>\n",
       "    <tr>\n",
       "      <th>0</th>\n",
       "      <td>xgb_classifier</td>\n",
       "      <td>73.40</td>\n",
       "      <td>0.39</td>\n",
       "      <td>76.48</td>\n",
       "      <td>0.72</td>\n",
       "      <td>67.72</td>\n",
       "      <td>0.72</td>\n",
       "    </tr>\n",
       "    <tr>\n",
       "      <th>0</th>\n",
       "      <td>xgb_classifier</td>\n",
       "      <td>73.08</td>\n",
       "      <td>0.46</td>\n",
       "      <td>74.83</td>\n",
       "      <td>0.60</td>\n",
       "      <td>69.68</td>\n",
       "      <td>0.31</td>\n",
       "    </tr>\n",
       "    <tr>\n",
       "      <th>0</th>\n",
       "      <td>xgb_classifier</td>\n",
       "      <td>71.98</td>\n",
       "      <td>0.47</td>\n",
       "      <td>73.17</td>\n",
       "      <td>0.57</td>\n",
       "      <td>69.55</td>\n",
       "      <td>0.42</td>\n",
       "    </tr>\n",
       "  </tbody>\n",
       "</table>\n",
       "</div>"
      ],
      "text/plain": [
       "       Model Name  Mean ACC  Std ACC  Mean PRECISION  Std PRECISION  \\\n",
       "0  xgb_classifier     73.39     0.42           75.69           0.60   \n",
       "0  xgb_classifier     73.55     0.36           75.34           0.48   \n",
       "0  xgb_classifier     73.40     0.39           76.48           0.72   \n",
       "0  xgb_classifier     73.08     0.46           74.83           0.60   \n",
       "0  xgb_classifier     71.98     0.47           73.17           0.57   \n",
       "\n",
       "   Mean RECALL  Std RECALL  \n",
       "0        69.02        0.20  \n",
       "0        70.14        0.24  \n",
       "0        67.72        0.72  \n",
       "0        69.68        0.31  \n",
       "0        69.55        0.42  "
      ]
     },
     "execution_count": 62,
     "metadata": {},
     "output_type": "execute_result"
    }
   ],
   "source": [
    "# rodar quando tiver tempo\n",
    "xgb_metrics_tunning = pd.DataFrame()\n",
    "\n",
    "for i in range(MAX_EVAL):\n",
    "    # choose values for parameters randomly\n",
    "    hp = { k: random.sample( v, 1 )[0] for k, v in  param.items() }\n",
    "    print( hp )\n",
    "    # model\n",
    "    xgb_model_tunning = XGBClassifier(n_estimators=hp['n_estimators'], \n",
    "                        learning_rate = hp['learning_rate'], \n",
    "                        max_depth = hp['max_depth'], \n",
    "                        subsample = hp['subsample'], \n",
    "                        colsample_bytree = hp['colsample_bytree'],\n",
    "                        min_child_weight = hp['min_child_weight'], \n",
    "                                      random_state = 42)\n",
    "\n",
    "    # performance\n",
    "    xgb_metrics = model_cross_validation('xgb_classifier', xgb_model_tunning, X, y)\n",
    "    xgb_metrics_tunning = pd.concat([xgb_metrics_tunning, xgb_metrics])\n",
    "\n",
    "xgb_metrics_tunning"
   ]
  },
  {
   "cell_type": "code",
   "execution_count": null,
   "id": "6b9464ff",
   "metadata": {},
   "outputs": [],
   "source": []
  },
  {
   "cell_type": "markdown",
   "id": "75436e1f",
   "metadata": {},
   "source": [
    "## Final model"
   ]
  },
  {
   "cell_type": "code",
   "execution_count": 63,
   "id": "4be94b40",
   "metadata": {
    "ExecuteTime": {
     "end_time": "2023-07-07T16:33:23.493399Z",
     "start_time": "2023-07-07T16:33:23.482428Z"
    }
   },
   "outputs": [],
   "source": [
    "final_param = {'n_estimators': 300, 'learning_rate': 0.05, \n",
    " 'max_depth': 5, 'subsample': 0.5, 'colsample_bytree': 0.7, 'min_child_weight': 3}"
   ]
  },
  {
   "cell_type": "code",
   "execution_count": 64,
   "id": "ab4e6e30",
   "metadata": {
    "ExecuteTime": {
     "end_time": "2023-07-07T16:33:28.631654Z",
     "start_time": "2023-07-07T16:33:23.497389Z"
    }
   },
   "outputs": [],
   "source": [
    "# model\n",
    "xgb_model_f = XGBClassifier(n_estimators=final_param['n_estimators'], \n",
    "                        learning_rate = final_param['learning_rate'], \n",
    "                        max_depth = final_param['max_depth'], \n",
    "                        subsample = final_param['subsample'], \n",
    "                        colsample_bytree = final_param['colsample_bytree'],\n",
    "                        min_child_weight = final_param['min_child_weight'], \n",
    "                                      random_state = 42)\n",
    "\n",
    "# fit\n",
    "xgb_model_f.fit(x_train, y_train)\n",
    "\n",
    "# prediction\n",
    "y_hat_val = xgb_model_f.predict(x_val)\n",
    "\n",
    "# performance\n",
    "xgb_metrics = ml_metrics( 'xgb_classifier', y_val, y_hat_val)\n",
    "# xgb_metrics = model_cross_validation('xgb_classifier', xgb_model, X, y)"
   ]
  },
  {
   "cell_type": "code",
   "execution_count": 65,
   "id": "d25e45eb",
   "metadata": {
    "ExecuteTime": {
     "end_time": "2023-07-07T16:33:28.663569Z",
     "start_time": "2023-07-07T16:33:28.635645Z"
    }
   },
   "outputs": [
    {
     "data": {
      "text/html": [
       "<div>\n",
       "<style scoped>\n",
       "    .dataframe tbody tr th:only-of-type {\n",
       "        vertical-align: middle;\n",
       "    }\n",
       "\n",
       "    .dataframe tbody tr th {\n",
       "        vertical-align: top;\n",
       "    }\n",
       "\n",
       "    .dataframe thead th {\n",
       "        text-align: right;\n",
       "    }\n",
       "</style>\n",
       "<table border=\"1\" class=\"dataframe\">\n",
       "  <thead>\n",
       "    <tr style=\"text-align: right;\">\n",
       "      <th></th>\n",
       "      <th>Model Name</th>\n",
       "      <th>ACC</th>\n",
       "      <th>PRECISION</th>\n",
       "      <th>RECALL</th>\n",
       "    </tr>\n",
       "  </thead>\n",
       "  <tbody>\n",
       "    <tr>\n",
       "      <th>0</th>\n",
       "      <td>xgb_classifier</td>\n",
       "      <td>0.737</td>\n",
       "      <td>0.757</td>\n",
       "      <td>0.701</td>\n",
       "    </tr>\n",
       "  </tbody>\n",
       "</table>\n",
       "</div>"
      ],
      "text/plain": [
       "       Model Name    ACC  PRECISION  RECALL\n",
       "0  xgb_classifier  0.737      0.757   0.701"
      ]
     },
     "execution_count": 65,
     "metadata": {},
     "output_type": "execute_result"
    }
   ],
   "source": [
    "xgb_metrics"
   ]
  },
  {
   "cell_type": "code",
   "execution_count": null,
   "id": "d6e6f185",
   "metadata": {},
   "outputs": [],
   "source": []
  },
  {
   "cell_type": "markdown",
   "id": "28a67967",
   "metadata": {},
   "source": [
    "# Profit Estimation"
   ]
  },
  {
   "cell_type": "code",
   "execution_count": 77,
   "id": "112132c5",
   "metadata": {
    "ExecuteTime": {
     "end_time": "2023-07-07T16:38:14.068734Z",
     "start_time": "2023-07-07T16:38:14.053775Z"
    }
   },
   "outputs": [],
   "source": [
    "df_estimation = pd.concat([x_test,y_test], axis = 1)"
   ]
  },
  {
   "cell_type": "code",
   "execution_count": 79,
   "id": "bfe9b0af",
   "metadata": {
    "ExecuteTime": {
     "end_time": "2023-07-07T16:38:21.706968Z",
     "start_time": "2023-07-07T16:38:21.678999Z"
    }
   },
   "outputs": [
    {
     "data": {
      "text/html": [
       "<div>\n",
       "<style scoped>\n",
       "    .dataframe tbody tr th:only-of-type {\n",
       "        vertical-align: middle;\n",
       "    }\n",
       "\n",
       "    .dataframe tbody tr th {\n",
       "        vertical-align: top;\n",
       "    }\n",
       "\n",
       "    .dataframe thead th {\n",
       "        text-align: right;\n",
       "    }\n",
       "</style>\n",
       "<table border=\"1\" class=\"dataframe\">\n",
       "  <thead>\n",
       "    <tr style=\"text-align: right;\">\n",
       "      <th></th>\n",
       "      <th>gender</th>\n",
       "      <th>height</th>\n",
       "      <th>weight</th>\n",
       "      <th>systolic</th>\n",
       "      <th>diastolic</th>\n",
       "      <th>cholesterol</th>\n",
       "      <th>gluc</th>\n",
       "      <th>smoke</th>\n",
       "      <th>alcohol</th>\n",
       "      <th>active</th>\n",
       "      <th>age_y</th>\n",
       "      <th>cardio</th>\n",
       "    </tr>\n",
       "  </thead>\n",
       "  <tbody>\n",
       "    <tr>\n",
       "      <th>56691</th>\n",
       "      <td>2</td>\n",
       "      <td>0.338</td>\n",
       "      <td>0.129</td>\n",
       "      <td>0.017</td>\n",
       "      <td>0.014</td>\n",
       "      <td>1</td>\n",
       "      <td>1</td>\n",
       "      <td>0</td>\n",
       "      <td>0</td>\n",
       "      <td>1</td>\n",
       "      <td>0.657</td>\n",
       "      <td>1</td>\n",
       "    </tr>\n",
       "    <tr>\n",
       "      <th>1696</th>\n",
       "      <td>1</td>\n",
       "      <td>0.292</td>\n",
       "      <td>0.090</td>\n",
       "      <td>0.017</td>\n",
       "      <td>0.014</td>\n",
       "      <td>1</td>\n",
       "      <td>1</td>\n",
       "      <td>0</td>\n",
       "      <td>0</td>\n",
       "      <td>0</td>\n",
       "      <td>1.000</td>\n",
       "      <td>1</td>\n",
       "    </tr>\n",
       "    <tr>\n",
       "      <th>58864</th>\n",
       "      <td>1</td>\n",
       "      <td>0.292</td>\n",
       "      <td>0.213</td>\n",
       "      <td>0.017</td>\n",
       "      <td>0.014</td>\n",
       "      <td>1</td>\n",
       "      <td>1</td>\n",
       "      <td>0</td>\n",
       "      <td>0</td>\n",
       "      <td>1</td>\n",
       "      <td>0.800</td>\n",
       "      <td>1</td>\n",
       "    </tr>\n",
       "    <tr>\n",
       "      <th>17735</th>\n",
       "      <td>2</td>\n",
       "      <td>0.362</td>\n",
       "      <td>0.187</td>\n",
       "      <td>0.018</td>\n",
       "      <td>0.015</td>\n",
       "      <td>3</td>\n",
       "      <td>1</td>\n",
       "      <td>0</td>\n",
       "      <td>0</td>\n",
       "      <td>1</td>\n",
       "      <td>0.743</td>\n",
       "      <td>1</td>\n",
       "    </tr>\n",
       "    <tr>\n",
       "      <th>58087</th>\n",
       "      <td>2</td>\n",
       "      <td>0.323</td>\n",
       "      <td>0.194</td>\n",
       "      <td>0.019</td>\n",
       "      <td>0.014</td>\n",
       "      <td>2</td>\n",
       "      <td>1</td>\n",
       "      <td>1</td>\n",
       "      <td>1</td>\n",
       "      <td>1</td>\n",
       "      <td>0.686</td>\n",
       "      <td>1</td>\n",
       "    </tr>\n",
       "  </tbody>\n",
       "</table>\n",
       "</div>"
      ],
      "text/plain": [
       "       gender  height  weight  systolic  diastolic  cholesterol  gluc  smoke  \\\n",
       "56691       2   0.338   0.129     0.017      0.014            1     1      0   \n",
       "1696        1   0.292   0.090     0.017      0.014            1     1      0   \n",
       "58864       1   0.292   0.213     0.017      0.014            1     1      0   \n",
       "17735       2   0.362   0.187     0.018      0.015            3     1      0   \n",
       "58087       2   0.323   0.194     0.019      0.014            2     1      1   \n",
       "\n",
       "       alcohol  active  age_y  cardio  \n",
       "56691        0       1  0.657       1  \n",
       "1696         0       0  1.000       1  \n",
       "58864        0       1  0.800       1  \n",
       "17735        0       1  0.743       1  \n",
       "58087        1       1  0.686       1  "
      ]
     },
     "execution_count": 79,
     "metadata": {},
     "output_type": "execute_result"
    }
   ],
   "source": [
    "df_estimation.head()"
   ]
  },
  {
   "cell_type": "code",
   "execution_count": 80,
   "id": "4509dae4",
   "metadata": {
    "ExecuteTime": {
     "end_time": "2023-07-07T16:38:59.448835Z",
     "start_time": "2023-07-07T16:38:59.442803Z"
    }
   },
   "outputs": [],
   "source": [
    "THRESHOLD = 0.5"
   ]
  },
  {
   "cell_type": "code",
   "execution_count": 82,
   "id": "11197519",
   "metadata": {
    "ExecuteTime": {
     "end_time": "2023-07-07T16:39:25.843216Z",
     "start_time": "2023-07-07T16:39:25.770412Z"
    }
   },
   "outputs": [
    {
     "data": {
      "text/html": [
       "<div>\n",
       "<style scoped>\n",
       "    .dataframe tbody tr th:only-of-type {\n",
       "        vertical-align: middle;\n",
       "    }\n",
       "\n",
       "    .dataframe tbody tr th {\n",
       "        vertical-align: top;\n",
       "    }\n",
       "\n",
       "    .dataframe thead th {\n",
       "        text-align: right;\n",
       "    }\n",
       "</style>\n",
       "<table border=\"1\" class=\"dataframe\">\n",
       "  <thead>\n",
       "    <tr style=\"text-align: right;\">\n",
       "      <th></th>\n",
       "      <th>gender</th>\n",
       "      <th>height</th>\n",
       "      <th>weight</th>\n",
       "      <th>systolic</th>\n",
       "      <th>diastolic</th>\n",
       "      <th>cholesterol</th>\n",
       "      <th>gluc</th>\n",
       "      <th>smoke</th>\n",
       "      <th>alcohol</th>\n",
       "      <th>active</th>\n",
       "      <th>age_y</th>\n",
       "      <th>cardio</th>\n",
       "      <th>predictions</th>\n",
       "      <th>percentage_above</th>\n",
       "    </tr>\n",
       "  </thead>\n",
       "  <tbody>\n",
       "    <tr>\n",
       "      <th>56691</th>\n",
       "      <td>2</td>\n",
       "      <td>0.338</td>\n",
       "      <td>0.129</td>\n",
       "      <td>0.017</td>\n",
       "      <td>0.014</td>\n",
       "      <td>1</td>\n",
       "      <td>1</td>\n",
       "      <td>0</td>\n",
       "      <td>0</td>\n",
       "      <td>1</td>\n",
       "      <td>0.657</td>\n",
       "      <td>1</td>\n",
       "      <td>0.272</td>\n",
       "      <td>0.272</td>\n",
       "    </tr>\n",
       "    <tr>\n",
       "      <th>1696</th>\n",
       "      <td>1</td>\n",
       "      <td>0.292</td>\n",
       "      <td>0.090</td>\n",
       "      <td>0.017</td>\n",
       "      <td>0.014</td>\n",
       "      <td>1</td>\n",
       "      <td>1</td>\n",
       "      <td>0</td>\n",
       "      <td>0</td>\n",
       "      <td>0</td>\n",
       "      <td>1.000</td>\n",
       "      <td>1</td>\n",
       "      <td>0.609</td>\n",
       "      <td>0.609</td>\n",
       "    </tr>\n",
       "    <tr>\n",
       "      <th>58864</th>\n",
       "      <td>1</td>\n",
       "      <td>0.292</td>\n",
       "      <td>0.213</td>\n",
       "      <td>0.017</td>\n",
       "      <td>0.014</td>\n",
       "      <td>1</td>\n",
       "      <td>1</td>\n",
       "      <td>0</td>\n",
       "      <td>0</td>\n",
       "      <td>1</td>\n",
       "      <td>0.800</td>\n",
       "      <td>1</td>\n",
       "      <td>0.588</td>\n",
       "      <td>0.588</td>\n",
       "    </tr>\n",
       "    <tr>\n",
       "      <th>17735</th>\n",
       "      <td>2</td>\n",
       "      <td>0.362</td>\n",
       "      <td>0.187</td>\n",
       "      <td>0.018</td>\n",
       "      <td>0.015</td>\n",
       "      <td>3</td>\n",
       "      <td>1</td>\n",
       "      <td>0</td>\n",
       "      <td>0</td>\n",
       "      <td>1</td>\n",
       "      <td>0.743</td>\n",
       "      <td>1</td>\n",
       "      <td>0.834</td>\n",
       "      <td>0.834</td>\n",
       "    </tr>\n",
       "    <tr>\n",
       "      <th>58087</th>\n",
       "      <td>2</td>\n",
       "      <td>0.323</td>\n",
       "      <td>0.194</td>\n",
       "      <td>0.019</td>\n",
       "      <td>0.014</td>\n",
       "      <td>2</td>\n",
       "      <td>1</td>\n",
       "      <td>1</td>\n",
       "      <td>1</td>\n",
       "      <td>1</td>\n",
       "      <td>0.686</td>\n",
       "      <td>1</td>\n",
       "      <td>0.899</td>\n",
       "      <td>0.899</td>\n",
       "    </tr>\n",
       "  </tbody>\n",
       "</table>\n",
       "</div>"
      ],
      "text/plain": [
       "       gender  height  weight  systolic  diastolic  cholesterol  gluc  smoke  \\\n",
       "56691       2   0.338   0.129     0.017      0.014            1     1      0   \n",
       "1696        1   0.292   0.090     0.017      0.014            1     1      0   \n",
       "58864       1   0.292   0.213     0.017      0.014            1     1      0   \n",
       "17735       2   0.362   0.187     0.018      0.015            3     1      0   \n",
       "58087       2   0.323   0.194     0.019      0.014            2     1      1   \n",
       "\n",
       "       alcohol  active  age_y  cardio  predictions  percentage_above  \n",
       "56691        0       1  0.657       1        0.272             0.272  \n",
       "1696         0       0  1.000       1        0.609             0.609  \n",
       "58864        0       1  0.800       1        0.588             0.588  \n",
       "17735        0       1  0.743       1        0.834             0.834  \n",
       "58087        1       1  0.686       1        0.899             0.899  "
      ]
     },
     "execution_count": 82,
     "metadata": {},
     "output_type": "execute_result"
    }
   ],
   "source": [
    "df_estimation['predictions'] = xgb_model_f.predict_proba(x_test)[:,1]\n",
    "df_estimation['percentage_above'] = df_estimation['predictions'].copy()\n",
    "df_estimation.head()"
   ]
  },
  {
   "cell_type": "code",
   "execution_count": 83,
   "id": "f1867cf6",
   "metadata": {
    "ExecuteTime": {
     "end_time": "2023-07-07T16:39:36.889408Z",
     "start_time": "2023-07-07T16:39:36.864475Z"
    }
   },
   "outputs": [
    {
     "data": {
      "text/html": [
       "<div>\n",
       "<style scoped>\n",
       "    .dataframe tbody tr th:only-of-type {\n",
       "        vertical-align: middle;\n",
       "    }\n",
       "\n",
       "    .dataframe tbody tr th {\n",
       "        vertical-align: top;\n",
       "    }\n",
       "\n",
       "    .dataframe thead th {\n",
       "        text-align: right;\n",
       "    }\n",
       "</style>\n",
       "<table border=\"1\" class=\"dataframe\">\n",
       "  <thead>\n",
       "    <tr style=\"text-align: right;\">\n",
       "      <th></th>\n",
       "      <th>gender</th>\n",
       "      <th>height</th>\n",
       "      <th>weight</th>\n",
       "      <th>systolic</th>\n",
       "      <th>diastolic</th>\n",
       "      <th>cholesterol</th>\n",
       "      <th>gluc</th>\n",
       "      <th>smoke</th>\n",
       "      <th>alcohol</th>\n",
       "      <th>active</th>\n",
       "      <th>age_y</th>\n",
       "      <th>cardio</th>\n",
       "      <th>predictions</th>\n",
       "      <th>percentage_above</th>\n",
       "    </tr>\n",
       "  </thead>\n",
       "  <tbody>\n",
       "    <tr>\n",
       "      <th>56691</th>\n",
       "      <td>2</td>\n",
       "      <td>0.338</td>\n",
       "      <td>0.129</td>\n",
       "      <td>0.017</td>\n",
       "      <td>0.014</td>\n",
       "      <td>1</td>\n",
       "      <td>1</td>\n",
       "      <td>0</td>\n",
       "      <td>0</td>\n",
       "      <td>1</td>\n",
       "      <td>0.657</td>\n",
       "      <td>1</td>\n",
       "      <td>0.272</td>\n",
       "      <td>0.0</td>\n",
       "    </tr>\n",
       "    <tr>\n",
       "      <th>1696</th>\n",
       "      <td>1</td>\n",
       "      <td>0.292</td>\n",
       "      <td>0.090</td>\n",
       "      <td>0.017</td>\n",
       "      <td>0.014</td>\n",
       "      <td>1</td>\n",
       "      <td>1</td>\n",
       "      <td>0</td>\n",
       "      <td>0</td>\n",
       "      <td>0</td>\n",
       "      <td>1.000</td>\n",
       "      <td>1</td>\n",
       "      <td>0.609</td>\n",
       "      <td>2.0</td>\n",
       "    </tr>\n",
       "    <tr>\n",
       "      <th>58864</th>\n",
       "      <td>1</td>\n",
       "      <td>0.292</td>\n",
       "      <td>0.213</td>\n",
       "      <td>0.017</td>\n",
       "      <td>0.014</td>\n",
       "      <td>1</td>\n",
       "      <td>1</td>\n",
       "      <td>0</td>\n",
       "      <td>0</td>\n",
       "      <td>1</td>\n",
       "      <td>0.800</td>\n",
       "      <td>1</td>\n",
       "      <td>0.588</td>\n",
       "      <td>1.0</td>\n",
       "    </tr>\n",
       "    <tr>\n",
       "      <th>17735</th>\n",
       "      <td>2</td>\n",
       "      <td>0.362</td>\n",
       "      <td>0.187</td>\n",
       "      <td>0.018</td>\n",
       "      <td>0.015</td>\n",
       "      <td>3</td>\n",
       "      <td>1</td>\n",
       "      <td>0</td>\n",
       "      <td>0</td>\n",
       "      <td>1</td>\n",
       "      <td>0.743</td>\n",
       "      <td>1</td>\n",
       "      <td>0.834</td>\n",
       "      <td>6.0</td>\n",
       "    </tr>\n",
       "    <tr>\n",
       "      <th>58087</th>\n",
       "      <td>2</td>\n",
       "      <td>0.323</td>\n",
       "      <td>0.194</td>\n",
       "      <td>0.019</td>\n",
       "      <td>0.014</td>\n",
       "      <td>2</td>\n",
       "      <td>1</td>\n",
       "      <td>1</td>\n",
       "      <td>1</td>\n",
       "      <td>1</td>\n",
       "      <td>0.686</td>\n",
       "      <td>1</td>\n",
       "      <td>0.899</td>\n",
       "      <td>7.0</td>\n",
       "    </tr>\n",
       "  </tbody>\n",
       "</table>\n",
       "</div>"
      ],
      "text/plain": [
       "       gender  height  weight  systolic  diastolic  cholesterol  gluc  smoke  \\\n",
       "56691       2   0.338   0.129     0.017      0.014            1     1      0   \n",
       "1696        1   0.292   0.090     0.017      0.014            1     1      0   \n",
       "58864       1   0.292   0.213     0.017      0.014            1     1      0   \n",
       "17735       2   0.362   0.187     0.018      0.015            3     1      0   \n",
       "58087       2   0.323   0.194     0.019      0.014            2     1      1   \n",
       "\n",
       "       alcohol  active  age_y  cardio  predictions  percentage_above  \n",
       "56691        0       1  0.657       1        0.272               0.0  \n",
       "1696         0       0  1.000       1        0.609               2.0  \n",
       "58864        0       1  0.800       1        0.588               1.0  \n",
       "17735        0       1  0.743       1        0.834               6.0  \n",
       "58087        1       1  0.686       1        0.899               7.0  "
      ]
     },
     "execution_count": 83,
     "metadata": {},
     "output_type": "execute_result"
    }
   ],
   "source": [
    "df_estimation.loc[df_estimation['percentage_above'] <= THRESHOLD,'percentage_above'] = 0\n",
    "\n",
    "df_estimation.loc[(df_estimation['percentage_above'] > THRESHOLD) &\n",
    "        (df_estimation['cardio'] == 0 ),'percentage_above'] = 0\n",
    "\n",
    "df_estimation.loc[(df_estimation['percentage_above'] > THRESHOLD) &\n",
    "        (df_estimation['cardio'] == 1 ),'percentage_above'] = np.floor(100*(df_estimation['percentage_above'] - 0.5)/5)\n",
    "df_estimation.head()"
   ]
  },
  {
   "cell_type": "code",
   "execution_count": 84,
   "id": "4da5d98a",
   "metadata": {
    "ExecuteTime": {
     "end_time": "2023-07-07T16:39:44.028814Z",
     "start_time": "2023-07-07T16:39:44.005922Z"
    }
   },
   "outputs": [
    {
     "data": {
      "text/html": [
       "<div>\n",
       "<style scoped>\n",
       "    .dataframe tbody tr th:only-of-type {\n",
       "        vertical-align: middle;\n",
       "    }\n",
       "\n",
       "    .dataframe tbody tr th {\n",
       "        vertical-align: top;\n",
       "    }\n",
       "\n",
       "    .dataframe thead th {\n",
       "        text-align: right;\n",
       "    }\n",
       "</style>\n",
       "<table border=\"1\" class=\"dataframe\">\n",
       "  <thead>\n",
       "    <tr style=\"text-align: right;\">\n",
       "      <th></th>\n",
       "      <th>gender</th>\n",
       "      <th>height</th>\n",
       "      <th>weight</th>\n",
       "      <th>systolic</th>\n",
       "      <th>diastolic</th>\n",
       "      <th>cholesterol</th>\n",
       "      <th>gluc</th>\n",
       "      <th>smoke</th>\n",
       "      <th>alcohol</th>\n",
       "      <th>active</th>\n",
       "      <th>age_y</th>\n",
       "      <th>cardio</th>\n",
       "      <th>predictions</th>\n",
       "      <th>percentage_above</th>\n",
       "      <th>profit</th>\n",
       "    </tr>\n",
       "  </thead>\n",
       "  <tbody>\n",
       "    <tr>\n",
       "      <th>56691</th>\n",
       "      <td>2</td>\n",
       "      <td>0.338</td>\n",
       "      <td>0.129</td>\n",
       "      <td>0.017</td>\n",
       "      <td>0.014</td>\n",
       "      <td>1</td>\n",
       "      <td>1</td>\n",
       "      <td>0</td>\n",
       "      <td>0</td>\n",
       "      <td>1</td>\n",
       "      <td>0.657</td>\n",
       "      <td>1</td>\n",
       "      <td>0.272</td>\n",
       "      <td>0.0</td>\n",
       "      <td>0.0</td>\n",
       "    </tr>\n",
       "    <tr>\n",
       "      <th>1696</th>\n",
       "      <td>1</td>\n",
       "      <td>0.292</td>\n",
       "      <td>0.090</td>\n",
       "      <td>0.017</td>\n",
       "      <td>0.014</td>\n",
       "      <td>1</td>\n",
       "      <td>1</td>\n",
       "      <td>0</td>\n",
       "      <td>0</td>\n",
       "      <td>0</td>\n",
       "      <td>1.000</td>\n",
       "      <td>1</td>\n",
       "      <td>0.609</td>\n",
       "      <td>2.0</td>\n",
       "      <td>1000.0</td>\n",
       "    </tr>\n",
       "    <tr>\n",
       "      <th>58864</th>\n",
       "      <td>1</td>\n",
       "      <td>0.292</td>\n",
       "      <td>0.213</td>\n",
       "      <td>0.017</td>\n",
       "      <td>0.014</td>\n",
       "      <td>1</td>\n",
       "      <td>1</td>\n",
       "      <td>0</td>\n",
       "      <td>0</td>\n",
       "      <td>1</td>\n",
       "      <td>0.800</td>\n",
       "      <td>1</td>\n",
       "      <td>0.588</td>\n",
       "      <td>1.0</td>\n",
       "      <td>500.0</td>\n",
       "    </tr>\n",
       "    <tr>\n",
       "      <th>17735</th>\n",
       "      <td>2</td>\n",
       "      <td>0.362</td>\n",
       "      <td>0.187</td>\n",
       "      <td>0.018</td>\n",
       "      <td>0.015</td>\n",
       "      <td>3</td>\n",
       "      <td>1</td>\n",
       "      <td>0</td>\n",
       "      <td>0</td>\n",
       "      <td>1</td>\n",
       "      <td>0.743</td>\n",
       "      <td>1</td>\n",
       "      <td>0.834</td>\n",
       "      <td>6.0</td>\n",
       "      <td>3000.0</td>\n",
       "    </tr>\n",
       "    <tr>\n",
       "      <th>58087</th>\n",
       "      <td>2</td>\n",
       "      <td>0.323</td>\n",
       "      <td>0.194</td>\n",
       "      <td>0.019</td>\n",
       "      <td>0.014</td>\n",
       "      <td>2</td>\n",
       "      <td>1</td>\n",
       "      <td>1</td>\n",
       "      <td>1</td>\n",
       "      <td>1</td>\n",
       "      <td>0.686</td>\n",
       "      <td>1</td>\n",
       "      <td>0.899</td>\n",
       "      <td>7.0</td>\n",
       "      <td>3500.0</td>\n",
       "    </tr>\n",
       "  </tbody>\n",
       "</table>\n",
       "</div>"
      ],
      "text/plain": [
       "       gender  height  weight  systolic  diastolic  cholesterol  gluc  smoke  \\\n",
       "56691       2   0.338   0.129     0.017      0.014            1     1      0   \n",
       "1696        1   0.292   0.090     0.017      0.014            1     1      0   \n",
       "58864       1   0.292   0.213     0.017      0.014            1     1      0   \n",
       "17735       2   0.362   0.187     0.018      0.015            3     1      0   \n",
       "58087       2   0.323   0.194     0.019      0.014            2     1      1   \n",
       "\n",
       "       alcohol  active  age_y  cardio  predictions  percentage_above  profit  \n",
       "56691        0       1  0.657       1        0.272               0.0     0.0  \n",
       "1696         0       0  1.000       1        0.609               2.0  1000.0  \n",
       "58864        0       1  0.800       1        0.588               1.0   500.0  \n",
       "17735        0       1  0.743       1        0.834               6.0  3000.0  \n",
       "58087        1       1  0.686       1        0.899               7.0  3500.0  "
      ]
     },
     "execution_count": 84,
     "metadata": {},
     "output_type": "execute_result"
    }
   ],
   "source": [
    "df_estimation['profit'] = df_estimation['percentage_above'] * 500\n",
    "\n",
    "df_estimation.head()"
   ]
  },
  {
   "cell_type": "code",
   "execution_count": 85,
   "id": "6587d5e7",
   "metadata": {
    "ExecuteTime": {
     "end_time": "2023-07-07T16:39:47.226899Z",
     "start_time": "2023-07-07T16:39:47.210898Z"
    }
   },
   "outputs": [],
   "source": [
    "profit = round(df_estimation['profit'].sum(),2)"
   ]
  },
  {
   "cell_type": "code",
   "execution_count": 86,
   "id": "5c138da2",
   "metadata": {
    "ExecuteTime": {
     "end_time": "2023-07-07T16:39:47.723297Z",
     "start_time": "2023-07-07T16:39:47.714323Z"
    }
   },
   "outputs": [
    {
     "name": "stdout",
     "output_type": "stream",
     "text": [
      "Possible porfit estimation: $12,363,500.00\n"
     ]
    }
   ],
   "source": [
    "print('Possible porfit estimation: ${:,.2f}'.format(profit))"
   ]
  },
  {
   "cell_type": "code",
   "execution_count": null,
   "id": "bb2555e1",
   "metadata": {},
   "outputs": [],
   "source": []
  },
  {
   "cell_type": "code",
   "execution_count": null,
   "id": "9d71f3e6",
   "metadata": {},
   "outputs": [],
   "source": []
  },
  {
   "cell_type": "code",
   "execution_count": null,
   "id": "517799d3",
   "metadata": {},
   "outputs": [],
   "source": []
  },
  {
   "cell_type": "code",
   "execution_count": null,
   "id": "6b9ca028",
   "metadata": {},
   "outputs": [],
   "source": []
  }
 ],
 "metadata": {
  "hide_input": false,
  "kernelspec": {
   "display_name": "Python 3 (ipykernel)",
   "language": "python",
   "name": "python3"
  },
  "language_info": {
   "codemirror_mode": {
    "name": "ipython",
    "version": 3
   },
   "file_extension": ".py",
   "mimetype": "text/x-python",
   "name": "python",
   "nbconvert_exporter": "python",
   "pygments_lexer": "ipython3",
   "version": "3.8.13"
  },
  "toc": {
   "base_numbering": 1,
   "nav_menu": {},
   "number_sections": true,
   "sideBar": true,
   "skip_h1_title": false,
   "title_cell": "Table of Contents",
   "title_sidebar": "Contents",
   "toc_cell": false,
   "toc_position": {},
   "toc_section_display": true,
   "toc_window_display": true
  }
 },
 "nbformat": 4,
 "nbformat_minor": 5
}
