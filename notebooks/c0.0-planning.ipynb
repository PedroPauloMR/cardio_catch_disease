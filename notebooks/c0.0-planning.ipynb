{
 "cells": [
  {
   "cell_type": "markdown",
   "id": "70673b4d",
   "metadata": {},
   "source": [
    "# PA001 - Cardio Catch Disease"
   ]
  },
  {
   "cell_type": "markdown",
   "id": "cd2d6784",
   "metadata": {},
   "source": [
    "# About Dataset\n",
    "\n",
    "## Data description\n",
    "\n",
    "There are 3 types of input features:\n",
    "\n",
    "- **Objective**: factual information;\n",
    "- **Examination**: results of medical examination;\n",
    "- **Subjective**: information given by the patient.\n",
    "- **Features**:\n",
    "    - **Age** | Objective Feature | age | int (days)\n",
    "    - **Height** | Objective Feature | height | int (cm) |\n",
    "    - **Weight** | Objective Feature | weight | float (kg) |\n",
    "    - **Gender** | Objective Feature | gender | categorical code |\n",
    "    - **Systolic blood pressure** | Examination Feature | ap_hi | int |\n",
    "    - **Diastolic blood pressure** | Examination Feature | ap_lo | int |\n",
    "    - **Cholesterol** | Examination Feature | cholesterol | 1: normal, 2: above normal, 3: well above normal |\n",
    "    - **Glucose** | Examination Feature | gluc | 1: normal, 2: above normal, 3: well above normal |\n",
    "    - **Smoking** | Subjective Feature | smoke | binary |\n",
    "    - **Alcohol intake** | Subjective Feature | alco | binary |\n",
    "    - **Physical activity** | Subjective Feature | active | binary |\n",
    "    - **Presence or absence of cardiovascular disease** | Target Variable | cardio | binary |\n",
    " All of the dataset values were collected at the moment of medical examination."
   ]
  },
  {
   "cell_type": "markdown",
   "id": "ac50fbc7",
   "metadata": {
    "ExecuteTime": {
     "end_time": "2023-06-25T12:33:28.022485Z",
     "start_time": "2023-06-25T12:33:28.014380Z"
    }
   },
   "source": [
    "A empresa oscila com os resultados de hora lucro, hora prejuízo.\n",
    "\n",
    "O custo do laudo e colaboradores por diagnóstico é de R$ 1000,00\n",
    "\n",
    "Caso a precisão do diagnóstico seja de 50, o cliente não paga. Caso seja 55, o cliente paga 500,00. A cada 5 de aumento, o valor sobe 500,00 (Ex: 60 ->  1000,00)"
   ]
  },
  {
   "cell_type": "markdown",
   "id": "e334e888",
   "metadata": {},
   "source": [
    "# Saída\n",
    "\n",
    "- Qual a acurácia e precisão da ferramenta ?\n",
    "- Quanto de lucro a Cardio Catch Disease passará a ter com a nova ferramenta ?\n",
    "- Qual a confiabilidade do resultado dado pela nova ferramenta ?"
   ]
  },
  {
   "cell_type": "markdown",
   "id": "5f0a7068",
   "metadata": {},
   "source": [
    "# Entrada\n",
    "- 70.000 registros de relatórios médicos\n",
    "- cada registro contém 11 features e 1 alvo\n"
   ]
  },
  {
   "cell_type": "markdown",
   "id": "d1003da6",
   "metadata": {
    "ExecuteTime": {
     "end_time": "2023-06-25T12:42:02.952448Z",
     "start_time": "2023-06-25T12:42:02.944404Z"
    }
   },
   "source": [
    "# Tarefas\n",
    "- Realizar a EDA, englobando: tratamento de outliers e dados faltantes, correlações, hipóteses\n",
    "- Feature engineering para criar possíveis variáveis que auxiliem no modelo além de eliminar irrelevantes"
   ]
  },
  {
   "cell_type": "code",
   "execution_count": null,
   "id": "cc4b83df",
   "metadata": {},
   "outputs": [],
   "source": []
  },
  {
   "cell_type": "code",
   "execution_count": null,
   "id": "ade05df0",
   "metadata": {},
   "outputs": [],
   "source": []
  },
  {
   "cell_type": "code",
   "execution_count": null,
   "id": "a270d158",
   "metadata": {},
   "outputs": [],
   "source": []
  },
  {
   "cell_type": "code",
   "execution_count": null,
   "id": "592730b5",
   "metadata": {},
   "outputs": [],
   "source": []
  },
  {
   "cell_type": "code",
   "execution_count": null,
   "id": "447cf261",
   "metadata": {},
   "outputs": [],
   "source": []
  },
  {
   "cell_type": "code",
   "execution_count": null,
   "id": "bfb5a9f7",
   "metadata": {},
   "outputs": [],
   "source": []
  },
  {
   "cell_type": "code",
   "execution_count": null,
   "id": "5593f245",
   "metadata": {},
   "outputs": [],
   "source": []
  },
  {
   "cell_type": "code",
   "execution_count": null,
   "id": "b107815b",
   "metadata": {},
   "outputs": [],
   "source": []
  },
  {
   "cell_type": "code",
   "execution_count": null,
   "id": "315cec1b",
   "metadata": {},
   "outputs": [],
   "source": []
  }
 ],
 "metadata": {
  "hide_input": false,
  "kernelspec": {
   "display_name": "Python 3 (ipykernel)",
   "language": "python",
   "name": "python3"
  },
  "language_info": {
   "codemirror_mode": {
    "name": "ipython",
    "version": 3
   },
   "file_extension": ".py",
   "mimetype": "text/x-python",
   "name": "python",
   "nbconvert_exporter": "python",
   "pygments_lexer": "ipython3",
   "version": "3.8.13"
  },
  "toc": {
   "base_numbering": 1,
   "nav_menu": {},
   "number_sections": true,
   "sideBar": true,
   "skip_h1_title": false,
   "title_cell": "Table of Contents",
   "title_sidebar": "Contents",
   "toc_cell": false,
   "toc_position": {},
   "toc_section_display": true,
   "toc_window_display": false
  }
 },
 "nbformat": 4,
 "nbformat_minor": 5
}
